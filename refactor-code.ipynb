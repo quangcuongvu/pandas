{
 "cells": [
  {
   "cell_type": "code",
   "execution_count": 427,
   "outputs": [
    {
     "name": "stdout",
     "output_type": "stream",
     "text": [
      "The nb_black extension is already loaded. To reload it, use:\n",
      "  %reload_ext nb_black\n"
     ]
    },
    {
     "data": {
      "text/plain": "<IPython.core.display.Javascript object>",
      "application/javascript": "\n            setTimeout(function() {\n                var nbb_cell_id = 427;\n                var nbb_unformatted_code = \"from IPython.core.interactiveshell import InteractiveShell\\nInteractiveShell.ast_node_interactivity = \\\"all\\\"\\n%load_ext nb_black\\nimport warnings\\nwarnings.filterwarnings(\\\"ignore\\\")\";\n                var nbb_formatted_code = \"from IPython.core.interactiveshell import InteractiveShell\\n\\nInteractiveShell.ast_node_interactivity = \\\"all\\\"\\n%load_ext nb_black\\nimport warnings\\n\\nwarnings.filterwarnings(\\\"ignore\\\")\";\n                var nbb_cells = Jupyter.notebook.get_cells();\n                for (var i = 0; i < nbb_cells.length; ++i) {\n                    if (nbb_cells[i].input_prompt_number == nbb_cell_id) {\n                        if (nbb_cells[i].get_text() == nbb_unformatted_code) {\n                             nbb_cells[i].set_text(nbb_formatted_code);\n                        }\n                        break;\n                    }\n                }\n            }, 500);\n            "
     },
     "metadata": {},
     "output_type": "display_data"
    }
   ],
   "source": [
    "from IPython.core.interactiveshell import InteractiveShell\n",
    "InteractiveShell.ast_node_interactivity = \"all\"\n",
    "%load_ext nb_black\n",
    "import warnings\n",
    "warnings.filterwarnings(\"ignore\")"
   ],
   "metadata": {
    "collapsed": false,
    "pycharm": {
     "name": "#%%\n"
    }
   }
  },
  {
   "cell_type": "code",
   "execution_count": 428,
   "outputs": [
    {
     "data": {
      "text/plain": "<IPython.core.display.Javascript object>",
      "application/javascript": "\n            setTimeout(function() {\n                var nbb_cell_id = 428;\n                var nbb_unformatted_code = \"import pandas as pd\\nimport json\\nimport os\\npd.set_option('display.max_rows', 1000)\\npd.set_option('display.max_columns', 1000)\";\n                var nbb_formatted_code = \"import pandas as pd\\nimport json\\nimport os\\n\\npd.set_option(\\\"display.max_rows\\\", 1000)\\npd.set_option(\\\"display.max_columns\\\", 1000)\";\n                var nbb_cells = Jupyter.notebook.get_cells();\n                for (var i = 0; i < nbb_cells.length; ++i) {\n                    if (nbb_cells[i].input_prompt_number == nbb_cell_id) {\n                        if (nbb_cells[i].get_text() == nbb_unformatted_code) {\n                             nbb_cells[i].set_text(nbb_formatted_code);\n                        }\n                        break;\n                    }\n                }\n            }, 500);\n            "
     },
     "metadata": {},
     "output_type": "display_data"
    }
   ],
   "source": [
    "import pandas as pd\n",
    "import json\n",
    "import os\n",
    "pd.set_option('display.max_rows', 1000)\n",
    "pd.set_option('display.max_columns', 1000)"
   ],
   "metadata": {
    "collapsed": false,
    "pycharm": {
     "name": "#%%\n"
    }
   }
  },
  {
   "cell_type": "code",
   "execution_count": 429,
   "outputs": [
    {
     "data": {
      "text/plain": "(6229, 25)"
     },
     "execution_count": 429,
     "metadata": {},
     "output_type": "execute_result"
    },
    {
     "data": {
      "text/plain": "<IPython.core.display.Javascript object>",
      "application/javascript": "\n            setTimeout(function() {\n                var nbb_cell_id = 429;\n                var nbb_unformatted_code = \"file_GS=\\\"data/chua-xu-ly/base cost god amz v1.csv\\\"\\nfile_name = file_GS.split(\\\"/\\\")[-1]\\npath_result=\\\"./data/result/\\\"\\nisExit=os.path.exists(path_result)\\nif not isExit:\\n    os.makedirs(path_result)\\nfile_result=path_result+file_name\\ngs=pd.read_csv(file_GS)\\ngs.shape\";\n                var nbb_formatted_code = \"file_GS = \\\"data/chua-xu-ly/base cost god amz v1.csv\\\"\\nfile_name = file_GS.split(\\\"/\\\")[-1]\\npath_result = \\\"./data/result/\\\"\\nisExit = os.path.exists(path_result)\\nif not isExit:\\n    os.makedirs(path_result)\\nfile_result = path_result + file_name\\ngs = pd.read_csv(file_GS)\\ngs.shape\";\n                var nbb_cells = Jupyter.notebook.get_cells();\n                for (var i = 0; i < nbb_cells.length; ++i) {\n                    if (nbb_cells[i].input_prompt_number == nbb_cell_id) {\n                        if (nbb_cells[i].get_text() == nbb_unformatted_code) {\n                             nbb_cells[i].set_text(nbb_formatted_code);\n                        }\n                        break;\n                    }\n                }\n            }, 500);\n            "
     },
     "metadata": {},
     "output_type": "display_data"
    }
   ],
   "source": [
    "file_GS=\"data/chua-xu-ly/base cost god amz v1.csv\"\n",
    "file_name = file_GS.split(\"/\")[-1]\n",
    "path_result=\"./data/result/\"\n",
    "isExit=os.path.exists(path_result)\n",
    "if not isExit:\n",
    "    os.makedirs(path_result)\n",
    "file_result=path_result+file_name\n",
    "gs=pd.read_csv(file_GS)\n",
    "gs.shape"
   ],
   "metadata": {
    "collapsed": false,
    "pycharm": {
     "name": "#%%\n"
    }
   }
  },
  {
   "cell_type": "code",
   "execution_count": 430,
   "outputs": [
    {
     "data": {
      "text/plain": "<IPython.core.display.Javascript object>",
      "application/javascript": "\n            setTimeout(function() {\n                var nbb_cell_id = 430;\n                var nbb_unformatted_code = \"# xu ly name\\nmetadata=gs[\\\"metadata\\\"]\\ndata=[]\\nfor i in range(len(metadata)):\\n    temp=json.loads(metadata[i])\\n    if \\\"fulfillment\\\" in temp:\\n        if temp[\\\"fulfillment\\\"] is not None:\\n            txt=temp[\\\"fulfillment\\\"]\\n    data.append(txt)\\ngs[\\\"name2\\\"]=data\\ngs[\\\"name\\\"]=gs[\\\"name\\\"].fillna(gs[\\\"name2\\\"])\\ngs[\\\"name\\\"]=gs[\\\"name\\\"].str.replace(\\\"#\\\",\\\"\\\")\\ngs.drop('name2', axis=1, inplace=True)\\nfor i in range(len(gs)):\\n    if gs.iloc[i][\\\"vendor\\\"]==\\\"ShineOn Fulfillment\\\" or gs.iloc[i][\\\"vendor\\\"]==\\\"ShineOn\\\":\\n       gs[\\\"name\\\"][i]=gs[\\\"fulfill_order_id\\\"][i]\\ngs1=gs.copy()\";\n                var nbb_formatted_code = \"# xu ly name\\nmetadata = gs[\\\"metadata\\\"]\\ndata = []\\nfor i in range(len(metadata)):\\n    temp = json.loads(metadata[i])\\n    if \\\"fulfillment\\\" in temp:\\n        if temp[\\\"fulfillment\\\"] is not None:\\n            txt = temp[\\\"fulfillment\\\"]\\n    data.append(txt)\\ngs[\\\"name2\\\"] = data\\ngs[\\\"name\\\"] = gs[\\\"name\\\"].fillna(gs[\\\"name2\\\"])\\ngs[\\\"name\\\"] = gs[\\\"name\\\"].str.replace(\\\"#\\\", \\\"\\\")\\ngs.drop(\\\"name2\\\", axis=1, inplace=True)\\nfor i in range(len(gs)):\\n    if (\\n        gs.iloc[i][\\\"vendor\\\"] == \\\"ShineOn Fulfillment\\\"\\n        or gs.iloc[i][\\\"vendor\\\"] == \\\"ShineOn\\\"\\n    ):\\n        gs[\\\"name\\\"][i] = gs[\\\"fulfill_order_id\\\"][i]\\ngs1 = gs.copy()\";\n                var nbb_cells = Jupyter.notebook.get_cells();\n                for (var i = 0; i < nbb_cells.length; ++i) {\n                    if (nbb_cells[i].input_prompt_number == nbb_cell_id) {\n                        if (nbb_cells[i].get_text() == nbb_unformatted_code) {\n                             nbb_cells[i].set_text(nbb_formatted_code);\n                        }\n                        break;\n                    }\n                }\n            }, 500);\n            "
     },
     "metadata": {},
     "output_type": "display_data"
    }
   ],
   "source": [
    "# xu ly name\n",
    "metadata=gs[\"metadata\"]\n",
    "data=[]\n",
    "for i in range(len(metadata)):\n",
    "    temp=json.loads(metadata[i])\n",
    "    if \"fulfillment\" in temp:\n",
    "        if temp[\"fulfillment\"] is not None:\n",
    "            txt=temp[\"fulfillment\"]\n",
    "    data.append(txt)\n",
    "gs[\"name2\"]=data\n",
    "gs[\"name\"]=gs[\"name\"].fillna(gs[\"name2\"])\n",
    "gs[\"name\"]=gs[\"name\"].str.replace(\"#\",\"\")\n",
    "gs.drop('name2', axis=1, inplace=True)\n",
    "for i in range(len(gs)):\n",
    "    if gs.iloc[i][\"vendor\"]==\"ShineOn Fulfillment\" or gs.iloc[i][\"vendor\"]==\"ShineOn\":\n",
    "       gs[\"name\"][i]=gs[\"fulfill_order_id\"][i]\n",
    "gs1=gs.copy()"
   ],
   "metadata": {
    "collapsed": false,
    "pycharm": {
     "name": "#%%\n"
    }
   }
  },
  {
   "cell_type": "code",
   "execution_count": 431,
   "outputs": [
    {
     "data": {
      "text/plain": "<IPython.core.display.Javascript object>",
      "application/javascript": "\n            setTimeout(function() {\n                var nbb_cell_id = 431;\n                var nbb_unformatted_code = \"# BurgerPrint\\nburgerPrint=pd.read_csv(\\\"./data/vendor_result/burgerPrint.csv\\\")\\nburgerPrint=burgerPrint[['REF','AMOUNT']]\\nburgerPrint[\\\"REF\\\"]=burgerPrint[\\\"REF\\\"].str.replace(\\\"#\\\",\\\"\\\")\\nburgerPrint.rename(columns={\\\"REF\\\":\\\"id\\\",\\\"AMOUNT\\\":\\\"amount\\\"}, inplace=True)\\nburgerPrint=burgerPrint[burgerPrint[\\\"id\\\"].isna()==False]\\n# customcat\\ncustomcat=pd.read_csv(\\\"./data/vendor_result/customcat.csv\\\")\\ncustomcat=customcat[['order id','amount']]\\ncustomcat.rename(columns={\\\"order id\\\":\\\"id\\\",\\\"amount\\\":\\\"amount\\\"}, inplace=True)\\n# Dreamship\\ndreamship=pd.read_csv(\\\"./data/vendor_result/dreamship.csv\\\")\\ndreamship=dreamship[['reference_id','total_cost']]\\ndreamship.rename(columns={\\\"reference_id\\\":\\\"id\\\",\\\"total_cost\\\":\\\"amount\\\"}, inplace=True)\\ndreamship=dreamship[dreamship[\\\"id\\\"].isna()==False]\\n# fuel\\nfuel=pd.read_csv(\\\"./data/vendor_result/fuel.csv\\\")\\nfuel=fuel[['Order','Total']]\\nfuel.rename(columns={\\\"Order\\\":\\\"id\\\",\\\"Total\\\":\\\"amount\\\"}, inplace=True)\\n# printway\\nprintway=pd.read_csv(\\\"./data/vendor_result/printway.csv\\\")\\nprintway=printway[['Order_Name','Total_price']]\\nprintway.rename(columns={\\\"Order_Name\\\":\\\"id\\\",\\\"Total_price\\\":\\\"amount\\\"}, inplace=True)\\n# shine on\\nshineon=pd.read_csv(\\\"./data/vendor_result/shineon.csv\\\")\\nshineon=shineon[['Store Order ID','Line Item Cost']]\\nshineon.rename(columns={\\\"Store Order ID\\\":\\\"id\\\",\\\"Line Item Cost\\\":\\\"amount\\\"}, inplace=True)\\n#gooteen\\ngooten=pd.read_csv(\\\"./data/vendor_result/gooten.csv\\\")\\ngooten['OrderNumber'] = gooten['OrderNumber'].apply(lambda x: str(x))\\ngooten=gooten[['OrderNumber','PartnerTotalItemCost']]\\ngooten.rename(columns={\\\"OrderNumber\\\":\\\"id\\\",\\\"PartnerTotalItemCost\\\":\\\"amount\\\"}, inplace=True)\\nvendor=pd.concat([burgerPrint,customcat,dreamship,fuel,printway,shineon,gooten], ignore_index=True)\\nvendor=vendor[vendor[\\\"amount\\\"].isna()==False]\\ndata=vendor['id'].value_counts() ==1\\ntemp=data[data==True]\\nvendor=vendor[vendor['id'].isin(temp.index)]\";\n                var nbb_formatted_code = \"# BurgerPrint\\nburgerPrint = pd.read_csv(\\\"./data/vendor_result/burgerPrint.csv\\\")\\nburgerPrint = burgerPrint[[\\\"REF\\\", \\\"AMOUNT\\\"]]\\nburgerPrint[\\\"REF\\\"] = burgerPrint[\\\"REF\\\"].str.replace(\\\"#\\\", \\\"\\\")\\nburgerPrint.rename(columns={\\\"REF\\\": \\\"id\\\", \\\"AMOUNT\\\": \\\"amount\\\"}, inplace=True)\\nburgerPrint = burgerPrint[burgerPrint[\\\"id\\\"].isna() == False]\\n# customcat\\ncustomcat = pd.read_csv(\\\"./data/vendor_result/customcat.csv\\\")\\ncustomcat = customcat[[\\\"order id\\\", \\\"amount\\\"]]\\ncustomcat.rename(columns={\\\"order id\\\": \\\"id\\\", \\\"amount\\\": \\\"amount\\\"}, inplace=True)\\n# Dreamship\\ndreamship = pd.read_csv(\\\"./data/vendor_result/dreamship.csv\\\")\\ndreamship = dreamship[[\\\"reference_id\\\", \\\"total_cost\\\"]]\\ndreamship.rename(columns={\\\"reference_id\\\": \\\"id\\\", \\\"total_cost\\\": \\\"amount\\\"}, inplace=True)\\ndreamship = dreamship[dreamship[\\\"id\\\"].isna() == False]\\n# fuel\\nfuel = pd.read_csv(\\\"./data/vendor_result/fuel.csv\\\")\\nfuel = fuel[[\\\"Order\\\", \\\"Total\\\"]]\\nfuel.rename(columns={\\\"Order\\\": \\\"id\\\", \\\"Total\\\": \\\"amount\\\"}, inplace=True)\\n# printway\\nprintway = pd.read_csv(\\\"./data/vendor_result/printway.csv\\\")\\nprintway = printway[[\\\"Order_Name\\\", \\\"Total_price\\\"]]\\nprintway.rename(columns={\\\"Order_Name\\\": \\\"id\\\", \\\"Total_price\\\": \\\"amount\\\"}, inplace=True)\\n# shine on\\nshineon = pd.read_csv(\\\"./data/vendor_result/shineon.csv\\\")\\nshineon = shineon[[\\\"Store Order ID\\\", \\\"Line Item Cost\\\"]]\\nshineon.rename(\\n    columns={\\\"Store Order ID\\\": \\\"id\\\", \\\"Line Item Cost\\\": \\\"amount\\\"}, inplace=True\\n)\\n# gooteen\\ngooten = pd.read_csv(\\\"./data/vendor_result/gooten.csv\\\")\\ngooten[\\\"OrderNumber\\\"] = gooten[\\\"OrderNumber\\\"].apply(lambda x: str(x))\\ngooten = gooten[[\\\"OrderNumber\\\", \\\"PartnerTotalItemCost\\\"]]\\ngooten.rename(\\n    columns={\\\"OrderNumber\\\": \\\"id\\\", \\\"PartnerTotalItemCost\\\": \\\"amount\\\"}, inplace=True\\n)\\nvendor = pd.concat(\\n    [burgerPrint, customcat, dreamship, fuel, printway, shineon, gooten],\\n    ignore_index=True,\\n)\\nvendor = vendor[vendor[\\\"amount\\\"].isna() == False]\\ndata = vendor[\\\"id\\\"].value_counts() == 1\\ntemp = data[data == True]\\nvendor = vendor[vendor[\\\"id\\\"].isin(temp.index)]\";\n                var nbb_cells = Jupyter.notebook.get_cells();\n                for (var i = 0; i < nbb_cells.length; ++i) {\n                    if (nbb_cells[i].input_prompt_number == nbb_cell_id) {\n                        if (nbb_cells[i].get_text() == nbb_unformatted_code) {\n                             nbb_cells[i].set_text(nbb_formatted_code);\n                        }\n                        break;\n                    }\n                }\n            }, 500);\n            "
     },
     "metadata": {},
     "output_type": "display_data"
    }
   ],
   "source": [
    "# BurgerPrint\n",
    "burgerPrint=pd.read_csv(\"./data/vendor_result/burgerPrint.csv\")\n",
    "burgerPrint=burgerPrint[['REF','AMOUNT']]\n",
    "burgerPrint[\"REF\"]=burgerPrint[\"REF\"].str.replace(\"#\",\"\")\n",
    "burgerPrint.rename(columns={\"REF\":\"id\",\"AMOUNT\":\"amount\"}, inplace=True)\n",
    "burgerPrint=burgerPrint[burgerPrint[\"id\"].isna()==False]\n",
    "# customcat\n",
    "customcat=pd.read_csv(\"./data/vendor_result/customcat.csv\")\n",
    "customcat=customcat[['order id','amount']]\n",
    "customcat.rename(columns={\"order id\":\"id\",\"amount\":\"amount\"}, inplace=True)\n",
    "# Dreamship\n",
    "dreamship=pd.read_csv(\"./data/vendor_result/dreamship.csv\")\n",
    "dreamship=dreamship[['reference_id','total_cost']]\n",
    "dreamship.rename(columns={\"reference_id\":\"id\",\"total_cost\":\"amount\"}, inplace=True)\n",
    "dreamship=dreamship[dreamship[\"id\"].isna()==False]\n",
    "# fuel\n",
    "fuel=pd.read_csv(\"./data/vendor_result/fuel.csv\")\n",
    "fuel=fuel[['Order','Total']]\n",
    "fuel.rename(columns={\"Order\":\"id\",\"Total\":\"amount\"}, inplace=True)\n",
    "# printway\n",
    "printway=pd.read_csv(\"./data/vendor_result/printway.csv\")\n",
    "printway=printway[['Order_Name','Total_price']]\n",
    "printway.rename(columns={\"Order_Name\":\"id\",\"Total_price\":\"amount\"}, inplace=True)\n",
    "# shine on\n",
    "shineon=pd.read_csv(\"./data/vendor_result/shineon.csv\")\n",
    "shineon=shineon[['Store Order ID','Line Item Cost']]\n",
    "shineon.rename(columns={\"Store Order ID\":\"id\",\"Line Item Cost\":\"amount\"}, inplace=True)\n",
    "#gooteen\n",
    "gooten=pd.read_csv(\"./data/vendor_result/gooten.csv\")\n",
    "gooten['OrderNumber'] = gooten['OrderNumber'].apply(lambda x: str(x))\n",
    "gooten=gooten[['OrderNumber','PartnerTotalItemCost']]\n",
    "gooten.rename(columns={\"OrderNumber\":\"id\",\"PartnerTotalItemCost\":\"amount\"}, inplace=True)\n",
    "vendor=pd.concat([burgerPrint,customcat,dreamship,fuel,printway,shineon,gooten], ignore_index=True)\n",
    "vendor=vendor[vendor[\"amount\"].isna()==False]\n",
    "data=vendor['id'].value_counts() ==1\n",
    "temp=data[data==True]\n",
    "vendor=vendor[vendor['id'].isin(temp.index)]\n"
   ],
   "metadata": {
    "collapsed": false,
    "pycharm": {
     "name": "#%%\n"
    }
   }
  },
  {
   "cell_type": "code",
   "execution_count": 432,
   "outputs": [
    {
     "name": "stdout",
     "output_type": "stream",
     "text": [
      "number id found: (2108, 27)\n"
     ]
    },
    {
     "data": {
      "text/plain": "(6229, 25)"
     },
     "execution_count": 432,
     "metadata": {},
     "output_type": "execute_result"
    },
    {
     "data": {
      "text/plain": "<IPython.core.display.Javascript object>",
      "application/javascript": "\n            setTimeout(function() {\n                var nbb_cell_id = 432;\n                var nbb_unformatted_code = \"orderRealCost=gs[gs['real_cost'].isnull()==True]\\ndf_merge=pd.merge(orderRealCost,vendor,left_on='name',right_on='id',how='left')\\namount1=df_merge[df_merge[\\\"amount\\\"].isnull()==False]\\ndf_merge2=pd.merge(orderRealCost,vendor,left_on='order_id',right_on='id',how='left')\\namount2=df_merge2[df_merge2[\\\"amount\\\"].isnull()==False]\\namount=pd.concat([amount1,amount2], ignore_index=True)\\namount.drop_duplicates(subset=['id'], keep='first', inplace=True)\\nprint(\\\"number id found:\\\" ,amount.shape)\\narr=[]\\nfor i in range(len(amount)):\\n    id=amount.iloc[i]['id']\\n    cost=amount.iloc[i]['amount']\\n    if id in gs['name'].values:\\n        temp=[id,cost]\\n        arr.append(temp)\\n        gs.loc[gs['name']==id,'real_cost']=cost\\n    if id in gs['order_id'].values:\\n        temp=[id,cost]\\n        arr.append(temp)\\n        gs.loc[gs['order_id']==id,'real_cost']=cost\\ngs.shape\";\n                var nbb_formatted_code = \"orderRealCost = gs[gs[\\\"real_cost\\\"].isnull() == True]\\ndf_merge = pd.merge(orderRealCost, vendor, left_on=\\\"name\\\", right_on=\\\"id\\\", how=\\\"left\\\")\\namount1 = df_merge[df_merge[\\\"amount\\\"].isnull() == False]\\ndf_merge2 = pd.merge(\\n    orderRealCost, vendor, left_on=\\\"order_id\\\", right_on=\\\"id\\\", how=\\\"left\\\"\\n)\\namount2 = df_merge2[df_merge2[\\\"amount\\\"].isnull() == False]\\namount = pd.concat([amount1, amount2], ignore_index=True)\\namount.drop_duplicates(subset=[\\\"id\\\"], keep=\\\"first\\\", inplace=True)\\nprint(\\\"number id found:\\\", amount.shape)\\narr = []\\nfor i in range(len(amount)):\\n    id = amount.iloc[i][\\\"id\\\"]\\n    cost = amount.iloc[i][\\\"amount\\\"]\\n    if id in gs[\\\"name\\\"].values:\\n        temp = [id, cost]\\n        arr.append(temp)\\n        gs.loc[gs[\\\"name\\\"] == id, \\\"real_cost\\\"] = cost\\n    if id in gs[\\\"order_id\\\"].values:\\n        temp = [id, cost]\\n        arr.append(temp)\\n        gs.loc[gs[\\\"order_id\\\"] == id, \\\"real_cost\\\"] = cost\\ngs.shape\";\n                var nbb_cells = Jupyter.notebook.get_cells();\n                for (var i = 0; i < nbb_cells.length; ++i) {\n                    if (nbb_cells[i].input_prompt_number == nbb_cell_id) {\n                        if (nbb_cells[i].get_text() == nbb_unformatted_code) {\n                             nbb_cells[i].set_text(nbb_formatted_code);\n                        }\n                        break;\n                    }\n                }\n            }, 500);\n            "
     },
     "metadata": {},
     "output_type": "display_data"
    }
   ],
   "source": [
    "orderRealCost=gs[gs['real_cost'].isnull()==True]\n",
    "df_merge=pd.merge(orderRealCost,vendor,left_on='name',right_on='id',how='left')\n",
    "amount1=df_merge[df_merge[\"amount\"].isnull()==False]\n",
    "df_merge2=pd.merge(orderRealCost,vendor,left_on='order_id',right_on='id',how='left')\n",
    "amount2=df_merge2[df_merge2[\"amount\"].isnull()==False]\n",
    "amount=pd.concat([amount1,amount2], ignore_index=True)\n",
    "amount.drop_duplicates(subset=['id'], keep='first', inplace=True)\n",
    "print(\"number id found:\" ,amount.shape)\n",
    "arr=[]\n",
    "for i in range(len(amount)):\n",
    "    id=amount.iloc[i]['id']\n",
    "    cost=amount.iloc[i]['amount']\n",
    "    if id in gs['name'].values:\n",
    "        temp=[id,cost]\n",
    "        arr.append(temp)\n",
    "        gs.loc[gs['name']==id,'real_cost']=cost\n",
    "    if id in gs['order_id'].values:\n",
    "        temp=[id,cost]\n",
    "        arr.append(temp)\n",
    "        gs.loc[gs['order_id']==id,'real_cost']=cost\n",
    "gs.shape"
   ],
   "metadata": {
    "collapsed": false,
    "pycharm": {
     "name": "#%%\n"
    }
   }
  },
  {
   "cell_type": "code",
   "execution_count": 433,
   "outputs": [
    {
     "data": {
      "text/plain": "<IPython.core.display.Javascript object>",
      "application/javascript": "\n            setTimeout(function() {\n                var nbb_cell_id = 433;\n                var nbb_unformatted_code = \"gs.to_csv(file_result,index=False)\";\n                var nbb_formatted_code = \"gs.to_csv(file_result, index=False)\";\n                var nbb_cells = Jupyter.notebook.get_cells();\n                for (var i = 0; i < nbb_cells.length; ++i) {\n                    if (nbb_cells[i].input_prompt_number == nbb_cell_id) {\n                        if (nbb_cells[i].get_text() == nbb_unformatted_code) {\n                             nbb_cells[i].set_text(nbb_formatted_code);\n                        }\n                        break;\n                    }\n                }\n            }, 500);\n            "
     },
     "metadata": {},
     "output_type": "display_data"
    }
   ],
   "source": [
    "gs.to_csv(file_result,index=False)"
   ],
   "metadata": {
    "collapsed": false,
    "pycharm": {
     "name": "#%%\n"
    }
   }
  },
  {
   "cell_type": "code",
   "execution_count": 433,
   "outputs": [
    {
     "data": {
      "text/plain": "<IPython.core.display.Javascript object>",
      "application/javascript": "\n            setTimeout(function() {\n                var nbb_cell_id = 433;\n                var nbb_unformatted_code = \"gs.to_csv(file_result,index=False)\";\n                var nbb_formatted_code = \"gs.to_csv(file_result, index=False)\";\n                var nbb_cells = Jupyter.notebook.get_cells();\n                for (var i = 0; i < nbb_cells.length; ++i) {\n                    if (nbb_cells[i].input_prompt_number == nbb_cell_id) {\n                        if (nbb_cells[i].get_text() == nbb_unformatted_code) {\n                             nbb_cells[i].set_text(nbb_formatted_code);\n                        }\n                        break;\n                    }\n                }\n            }, 500);\n            "
     },
     "metadata": {},
     "output_type": "display_data"
    }
   ],
   "source": [],
   "metadata": {
    "collapsed": false,
    "pycharm": {
     "name": "#%%\n"
    }
   }
  }
 ],
 "metadata": {
  "kernelspec": {
   "display_name": "Python 3",
   "language": "python",
   "name": "python3"
  },
  "language_info": {
   "codemirror_mode": {
    "name": "ipython",
    "version": 2
   },
   "file_extension": ".py",
   "mimetype": "text/x-python",
   "name": "python",
   "nbconvert_exporter": "python",
   "pygments_lexer": "ipython2",
   "version": "2.7.6"
  }
 },
 "nbformat": 4,
 "nbformat_minor": 0
}