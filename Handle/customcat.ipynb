{
 "cells": [
  {
   "cell_type": "code",
   "execution_count": 13,
   "outputs": [
    {
     "name": "stdout",
     "output_type": "stream",
     "text": [
      "The nb_black extension is already loaded. To reload it, use:\n",
      "  %reload_ext nb_black\n"
     ]
    },
    {
     "data": {
      "text/plain": "<IPython.core.display.Javascript object>",
      "application/javascript": "\n            setTimeout(function() {\n                var nbb_cell_id = 13;\n                var nbb_unformatted_code = \"from IPython.core.interactiveshell import InteractiveShell\\nInteractiveShell.ast_node_interactivity = \\\"all\\\"\\nimport pandas as pd\\npd.set_option('display.max_rows', 1000)\\npd.set_option('display.max_columns', 1000)\\n%load_ext nb_black\";\n                var nbb_formatted_code = \"from IPython.core.interactiveshell import InteractiveShell\\n\\nInteractiveShell.ast_node_interactivity = \\\"all\\\"\\nimport pandas as pd\\n\\npd.set_option(\\\"display.max_rows\\\", 1000)\\npd.set_option(\\\"display.max_columns\\\", 1000)\\n%load_ext nb_black\";\n                var nbb_cells = Jupyter.notebook.get_cells();\n                for (var i = 0; i < nbb_cells.length; ++i) {\n                    if (nbb_cells[i].input_prompt_number == nbb_cell_id) {\n                        if (nbb_cells[i].get_text() == nbb_unformatted_code) {\n                             nbb_cells[i].set_text(nbb_formatted_code);\n                        }\n                        break;\n                    }\n                }\n            }, 500);\n            "
     },
     "metadata": {},
     "output_type": "display_data"
    }
   ],
   "source": [
    "from IPython.core.interactiveshell import InteractiveShell\n",
    "InteractiveShell.ast_node_interactivity = \"all\"\n",
    "import pandas as pd\n",
    "pd.set_option('display.max_rows', 1000)\n",
    "pd.set_option('display.max_columns', 1000)\n",
    "%load_ext nb_black"
   ],
   "metadata": {
    "collapsed": false,
    "pycharm": {
     "name": "#%%\n"
    }
   }
  },
  {
   "cell_type": "code",
   "execution_count": 18,
   "outputs": [
    {
     "data": {
      "text/plain": "              order id      invoice               order date order status  \\\n0  114-0890138-3077044  254F0B62011  2021-07-03 03:30:09.513      Shipped   \n1  114-4549277-0431426  A1837F36345  2021-07-03 03:30:10.053      Shipped   \n2  114-9484274-4897015  A82B67A6F30   2021-07-06 11:30:14.64      Shipped   \n3  113-7728011-6497068  2F6AB6CAB1B  2021-07-19 09:30:08.987      Shipped   \n4  111-0304344-9297841  2F48D9C8C6E  2021-07-28 01:30:09.223      Shipped   \n\n  line item status  credit processed date  amount  shipping  \\\n0          Shipped  1900-01-01 00:00:00.0   29.99      7.99   \n1          Shipped  1900-01-01 00:00:00.0   13.99      4.99   \n2          Shipped  1900-01-01 00:00:00.0   18.99      4.99   \n3          Shipped  1900-01-01 00:00:00.0   13.99      4.99   \n4          Shipped  1900-01-01 00:00:00.0   11.99      4.99   \n\n               ship date carrier actual ship method transaction id  \\\n0  2021-07-03 00:00:00.0     OSM  OSM Parcel Select       cz7mdmes   \n1  2021-07-06 00:00:00.0     OSM   OSM Light Weight       cz7mdmes   \n2  2021-07-07 00:00:00.0     OSM   OSM Light Weight       4de7r666   \n3  2021-07-21 00:00:00.0     OSM   OSM Light Weight       gadt4a5v   \n4  2021-07-29 00:00:00.0     OSM   OSM Light Weight       c6x50gyd   \n\n   pay method  item quantity  quantity cancelled  item cost  product id  \\\n0  MasterCard              1                 0.0       22.0        1265   \n1  MasterCard              1                 0.0        9.0        1049   \n2  MasterCard              1                 0.0       14.0        1231   \n3  MasterCard              1                 0.0        9.0        1049   \n4  MasterCard              1                 0.0        7.0        1049   \n\n   catalog sku                                  item  item color product size  \\\n0        59015           Arctic Fleece Blanket 50x60       White          NaN   \n1        48148                   100% Cotton T-Shirt       Black     XX-Large   \n2        57946  30in x 40in Baby Microfleece Blanket       White          NaN   \n3        48244                   100% Cotton T-Shirt      Maroon     XX-Large   \n4        48227                   100% Cotton T-Shirt  Light Pink      X-Large   \n\n      customer name                  address1 address2                   city  \\\n0     David Vincent  7234 ALTHORP WAY APT U-8      NaN              NASHVILLE   \n1         Kurt Sill              722 WILLS ST      NaN             PITTSBURGH   \n2      Susan Edgell               216 12TH ST      NaN                 MONACA   \n3  Debbie D Hillock             2408 Avenue T      NaN                Lubbock   \n4   Shantel Carlson          5042 HICKORY AVE      NaN  MERRIAM WOODS VILLAGE   \n\n  state          zip country                  email                 tracking  \n0    TN  '37211-7093      US  customcat@godgroup.co  '9261290278835120536841  \n1    PA  '15211-2261      US  customcat@godgroup.co  '9274890278835120544088  \n2    PA  '15061-1920      US  customcat@godgroup.co  '9274890278835120660726  \n3    TX       '79411      US  customcat@godgroup.co  '9274890278835121148940  \n4    MO  '65740-9132      US  customcat@godgroup.co  '9274890278835121520111  ",
      "text/html": "<div>\n<style scoped>\n    .dataframe tbody tr th:only-of-type {\n        vertical-align: middle;\n    }\n\n    .dataframe tbody tr th {\n        vertical-align: top;\n    }\n\n    .dataframe thead th {\n        text-align: right;\n    }\n</style>\n<table border=\"1\" class=\"dataframe\">\n  <thead>\n    <tr style=\"text-align: right;\">\n      <th></th>\n      <th>order id</th>\n      <th>invoice</th>\n      <th>order date</th>\n      <th>order status</th>\n      <th>line item status</th>\n      <th>credit processed date</th>\n      <th>amount</th>\n      <th>shipping</th>\n      <th>ship date</th>\n      <th>carrier</th>\n      <th>actual ship method</th>\n      <th>transaction id</th>\n      <th>pay method</th>\n      <th>item quantity</th>\n      <th>quantity cancelled</th>\n      <th>item cost</th>\n      <th>product id</th>\n      <th>catalog sku</th>\n      <th>item</th>\n      <th>item color</th>\n      <th>product size</th>\n      <th>customer name</th>\n      <th>address1</th>\n      <th>address2</th>\n      <th>city</th>\n      <th>state</th>\n      <th>zip</th>\n      <th>country</th>\n      <th>email</th>\n      <th>tracking</th>\n    </tr>\n  </thead>\n  <tbody>\n    <tr>\n      <th>0</th>\n      <td>114-0890138-3077044</td>\n      <td>254F0B62011</td>\n      <td>2021-07-03 03:30:09.513</td>\n      <td>Shipped</td>\n      <td>Shipped</td>\n      <td>1900-01-01 00:00:00.0</td>\n      <td>29.99</td>\n      <td>7.99</td>\n      <td>2021-07-03 00:00:00.0</td>\n      <td>OSM</td>\n      <td>OSM Parcel Select</td>\n      <td>cz7mdmes</td>\n      <td>MasterCard</td>\n      <td>1</td>\n      <td>0.0</td>\n      <td>22.0</td>\n      <td>1265</td>\n      <td>59015</td>\n      <td>Arctic Fleece Blanket 50x60</td>\n      <td>White</td>\n      <td>NaN</td>\n      <td>David Vincent</td>\n      <td>7234 ALTHORP WAY APT U-8</td>\n      <td>NaN</td>\n      <td>NASHVILLE</td>\n      <td>TN</td>\n      <td>'37211-7093</td>\n      <td>US</td>\n      <td>customcat@godgroup.co</td>\n      <td>'9261290278835120536841</td>\n    </tr>\n    <tr>\n      <th>1</th>\n      <td>114-4549277-0431426</td>\n      <td>A1837F36345</td>\n      <td>2021-07-03 03:30:10.053</td>\n      <td>Shipped</td>\n      <td>Shipped</td>\n      <td>1900-01-01 00:00:00.0</td>\n      <td>13.99</td>\n      <td>4.99</td>\n      <td>2021-07-06 00:00:00.0</td>\n      <td>OSM</td>\n      <td>OSM Light Weight</td>\n      <td>cz7mdmes</td>\n      <td>MasterCard</td>\n      <td>1</td>\n      <td>0.0</td>\n      <td>9.0</td>\n      <td>1049</td>\n      <td>48148</td>\n      <td>100% Cotton T-Shirt</td>\n      <td>Black</td>\n      <td>XX-Large</td>\n      <td>Kurt Sill</td>\n      <td>722 WILLS ST</td>\n      <td>NaN</td>\n      <td>PITTSBURGH</td>\n      <td>PA</td>\n      <td>'15211-2261</td>\n      <td>US</td>\n      <td>customcat@godgroup.co</td>\n      <td>'9274890278835120544088</td>\n    </tr>\n    <tr>\n      <th>2</th>\n      <td>114-9484274-4897015</td>\n      <td>A82B67A6F30</td>\n      <td>2021-07-06 11:30:14.64</td>\n      <td>Shipped</td>\n      <td>Shipped</td>\n      <td>1900-01-01 00:00:00.0</td>\n      <td>18.99</td>\n      <td>4.99</td>\n      <td>2021-07-07 00:00:00.0</td>\n      <td>OSM</td>\n      <td>OSM Light Weight</td>\n      <td>4de7r666</td>\n      <td>MasterCard</td>\n      <td>1</td>\n      <td>0.0</td>\n      <td>14.0</td>\n      <td>1231</td>\n      <td>57946</td>\n      <td>30in x 40in Baby Microfleece Blanket</td>\n      <td>White</td>\n      <td>NaN</td>\n      <td>Susan Edgell</td>\n      <td>216 12TH ST</td>\n      <td>NaN</td>\n      <td>MONACA</td>\n      <td>PA</td>\n      <td>'15061-1920</td>\n      <td>US</td>\n      <td>customcat@godgroup.co</td>\n      <td>'9274890278835120660726</td>\n    </tr>\n    <tr>\n      <th>3</th>\n      <td>113-7728011-6497068</td>\n      <td>2F6AB6CAB1B</td>\n      <td>2021-07-19 09:30:08.987</td>\n      <td>Shipped</td>\n      <td>Shipped</td>\n      <td>1900-01-01 00:00:00.0</td>\n      <td>13.99</td>\n      <td>4.99</td>\n      <td>2021-07-21 00:00:00.0</td>\n      <td>OSM</td>\n      <td>OSM Light Weight</td>\n      <td>gadt4a5v</td>\n      <td>MasterCard</td>\n      <td>1</td>\n      <td>0.0</td>\n      <td>9.0</td>\n      <td>1049</td>\n      <td>48244</td>\n      <td>100% Cotton T-Shirt</td>\n      <td>Maroon</td>\n      <td>XX-Large</td>\n      <td>Debbie D Hillock</td>\n      <td>2408 Avenue T</td>\n      <td>NaN</td>\n      <td>Lubbock</td>\n      <td>TX</td>\n      <td>'79411</td>\n      <td>US</td>\n      <td>customcat@godgroup.co</td>\n      <td>'9274890278835121148940</td>\n    </tr>\n    <tr>\n      <th>4</th>\n      <td>111-0304344-9297841</td>\n      <td>2F48D9C8C6E</td>\n      <td>2021-07-28 01:30:09.223</td>\n      <td>Shipped</td>\n      <td>Shipped</td>\n      <td>1900-01-01 00:00:00.0</td>\n      <td>11.99</td>\n      <td>4.99</td>\n      <td>2021-07-29 00:00:00.0</td>\n      <td>OSM</td>\n      <td>OSM Light Weight</td>\n      <td>c6x50gyd</td>\n      <td>MasterCard</td>\n      <td>1</td>\n      <td>0.0</td>\n      <td>7.0</td>\n      <td>1049</td>\n      <td>48227</td>\n      <td>100% Cotton T-Shirt</td>\n      <td>Light Pink</td>\n      <td>X-Large</td>\n      <td>Shantel Carlson</td>\n      <td>5042 HICKORY AVE</td>\n      <td>NaN</td>\n      <td>MERRIAM WOODS VILLAGE</td>\n      <td>MO</td>\n      <td>'65740-9132</td>\n      <td>US</td>\n      <td>customcat@godgroup.co</td>\n      <td>'9274890278835121520111</td>\n    </tr>\n  </tbody>\n</table>\n</div>"
     },
     "execution_count": 18,
     "metadata": {},
     "output_type": "execute_result"
    },
    {
     "data": {
      "text/plain": "<IPython.core.display.Javascript object>",
      "application/javascript": "\n            setTimeout(function() {\n                var nbb_cell_id = 18;\n                var nbb_unformatted_code = \"# Customcat\\ncustomcat1=pd.read_csv(\\\"../data/vendor/Customcat/AMZ GOD- CustomCat.csv\\\")\\ncustomcat2=pd.read_csv(\\\"../data/vendor/Customcat/AMZ 1- CustomCat-API.csv\\\")\\ncustomcat3=pd.read_csv(\\\"../data/vendor/Customcat/AMZ 1- CustomCat-Shopify.csv\\\")\\ncustomcat4=pd.read_csv(\\\"../data/vendor/Customcat/AMZ2- CustomCat-API.csv\\\")\\ncustomcat5=pd.read_csv(\\\"../data/vendor/Customcat/AMZ2-CustomCat-Shopify.csv\\\")\\ncustomcat=pd.concat([customcat1,customcat2,customcat3,customcat4,customcat5])\\ncustomcat=customcat[customcat['amount'].isnull()==False]\\n# remove orderid=18029 do gia trung nhau.\\nid=\\\"18029\\\"\\ncustomcat=customcat[customcat['order id']!=id]\\ncustomcat.head(n=5)\\ncustomcat.to_csv(\\\"../data/ok/customcat.csv\\\",index=False)\";\n                var nbb_formatted_code = \"# Customcat\\ncustomcat1 = pd.read_csv(\\\"../data/vendor/Customcat/AMZ GOD- CustomCat.csv\\\")\\ncustomcat2 = pd.read_csv(\\\"../data/vendor/Customcat/AMZ 1- CustomCat-API.csv\\\")\\ncustomcat3 = pd.read_csv(\\\"../data/vendor/Customcat/AMZ 1- CustomCat-Shopify.csv\\\")\\ncustomcat4 = pd.read_csv(\\\"../data/vendor/Customcat/AMZ2- CustomCat-API.csv\\\")\\ncustomcat5 = pd.read_csv(\\\"../data/vendor/Customcat/AMZ2-CustomCat-Shopify.csv\\\")\\ncustomcat = pd.concat([customcat1, customcat2, customcat3, customcat4, customcat5])\\ncustomcat = customcat[customcat[\\\"amount\\\"].isnull() == False]\\n# remove orderid=18029 do gia trung nhau.\\nid = \\\"18029\\\"\\ncustomcat = customcat[customcat[\\\"order id\\\"] != id]\\ncustomcat.head(n=5)\\ncustomcat.to_csv(\\\"../data/ok/customcat.csv\\\", index=False)\";\n                var nbb_cells = Jupyter.notebook.get_cells();\n                for (var i = 0; i < nbb_cells.length; ++i) {\n                    if (nbb_cells[i].input_prompt_number == nbb_cell_id) {\n                        if (nbb_cells[i].get_text() == nbb_unformatted_code) {\n                             nbb_cells[i].set_text(nbb_formatted_code);\n                        }\n                        break;\n                    }\n                }\n            }, 500);\n            "
     },
     "metadata": {},
     "output_type": "display_data"
    }
   ],
   "source": [
    "# Customcat\n",
    "customcat1=pd.read_csv(\"../data/vendor/Customcat/AMZ GOD- CustomCat.csv\")\n",
    "customcat2=pd.read_csv(\"../data/vendor/Customcat/AMZ 1- CustomCat-API.csv\")\n",
    "customcat3=pd.read_csv(\"../data/vendor/Customcat/AMZ 1- CustomCat-Shopify.csv\")\n",
    "customcat4=pd.read_csv(\"../data/vendor/Customcat/AMZ2- CustomCat-API.csv\")\n",
    "customcat5=pd.read_csv(\"../data/vendor/Customcat/AMZ2-CustomCat-Shopify.csv\")\n",
    "customcat=pd.concat([customcat1,customcat2,customcat3,customcat4,customcat5])\n",
    "customcat=customcat[customcat['amount'].isnull()==False]\n",
    "# remove orderid=18029 do gia trung nhau.\n",
    "id=\"18029\"\n",
    "customcat=customcat[customcat['order id']!=id]\n",
    "customcat.head(n=5)\n",
    "customcat.to_csv(\"../data/ok/customcat.csv\",index=False)"
   ],
   "metadata": {
    "collapsed": false,
    "pycharm": {
     "name": "#%%\n"
    }
   }
  },
  {
   "cell_type": "code",
   "execution_count": 14,
   "outputs": [
    {
     "data": {
      "text/plain": "<IPython.core.display.Javascript object>",
      "application/javascript": "\n            setTimeout(function() {\n                var nbb_cell_id = 14;\n                var nbb_unformatted_code = \"# Customcat\\ncustomcat1=pd.read_csv(\\\"../data/vendor/Customcat/AMZ GOD- CustomCat.csv\\\")\\ncustomcat2=pd.read_csv(\\\"../data/vendor/Customcat/AMZ 1- CustomCat-API.csv\\\")\\ncustomcat3=pd.read_csv(\\\"../data/vendor/Customcat/AMZ 1- CustomCat-Shopify.csv\\\")\\ncustomcat4=pd.read_csv(\\\"../data/vendor/Customcat/AMZ2- CustomCat-API.csv\\\")\\ncustomcat5=pd.read_csv(\\\"../data/vendor/Customcat/AMZ2-CustomCat-Shopify.csv\\\")\\ncustomcat=pd.concat([customcat1,customcat2,customcat3,customcat4,customcat5])\\ncustomcat=customcat[customcat['amount'].isnull()==False]\\n# customcat['order id'].value_counts()\\n# remove orderid=18029 do gia trung nhau.\\ncustomcat=customcat[customcat['order id']!=18029]\\ncustomcat['order id'].value_counts()\";\n                var nbb_formatted_code = \"# Customcat\\ncustomcat1 = pd.read_csv(\\\"../data/vendor/Customcat/AMZ GOD- CustomCat.csv\\\")\\ncustomcat2 = pd.read_csv(\\\"../data/vendor/Customcat/AMZ 1- CustomCat-API.csv\\\")\\ncustomcat3 = pd.read_csv(\\\"../data/vendor/Customcat/AMZ 1- CustomCat-Shopify.csv\\\")\\ncustomcat4 = pd.read_csv(\\\"../data/vendor/Customcat/AMZ2- CustomCat-API.csv\\\")\\ncustomcat5 = pd.read_csv(\\\"../data/vendor/Customcat/AMZ2-CustomCat-Shopify.csv\\\")\\ncustomcat = pd.concat([customcat1, customcat2, customcat3, customcat4, customcat5])\\ncustomcat = customcat[customcat[\\\"amount\\\"].isnull() == False]\\n# customcat['order id'].value_counts()\\n# remove orderid=18029 do gia trung nhau.\\ncustomcat = customcat[customcat[\\\"order id\\\"] != 18029]\\ncustomcat[\\\"order id\\\"].value_counts()\";\n                var nbb_cells = Jupyter.notebook.get_cells();\n                for (var i = 0; i < nbb_cells.length; ++i) {\n                    if (nbb_cells[i].input_prompt_number == nbb_cell_id) {\n                        if (nbb_cells[i].get_text() == nbb_unformatted_code) {\n                             nbb_cells[i].set_text(nbb_formatted_code);\n                        }\n                        break;\n                    }\n                }\n            }, 500);\n            "
     },
     "metadata": {},
     "output_type": "display_data"
    }
   ],
   "source": [],
   "metadata": {
    "collapsed": false,
    "pycharm": {
     "name": "#%%\n"
    }
   }
  }
 ],
 "metadata": {
  "kernelspec": {
   "display_name": "Python 3",
   "language": "python",
   "name": "python3"
  },
  "language_info": {
   "codemirror_mode": {
    "name": "ipython",
    "version": 2
   },
   "file_extension": ".py",
   "mimetype": "text/x-python",
   "name": "python",
   "nbconvert_exporter": "python",
   "pygments_lexer": "ipython2",
   "version": "2.7.6"
  }
 },
 "nbformat": 4,
 "nbformat_minor": 0
}