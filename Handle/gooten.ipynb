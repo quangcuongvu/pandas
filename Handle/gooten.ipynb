{
 "cells": [
  {
   "cell_type": "code",
   "execution_count": 78,
   "outputs": [
    {
     "name": "stdout",
     "output_type": "stream",
     "text": [
      "The nb_black extension is already loaded. To reload it, use:\n",
      "  %reload_ext nb_black\n"
     ]
    },
    {
     "data": {
      "text/plain": "<IPython.core.display.Javascript object>",
      "application/javascript": "\n            setTimeout(function() {\n                var nbb_cell_id = 78;\n                var nbb_unformatted_code = \"from IPython.core.interactiveshell import InteractiveShell\\nInteractiveShell.ast_node_interactivity = \\\"all\\\"\\nimport pandas as pd\\nimport numpy as np\\npd.set_option('display.max_rows', 1000)\\npd.set_option('display.max_columns', 1000)\\n%load_ext nb_black\";\n                var nbb_formatted_code = \"from IPython.core.interactiveshell import InteractiveShell\\n\\nInteractiveShell.ast_node_interactivity = \\\"all\\\"\\nimport pandas as pd\\nimport numpy as np\\n\\npd.set_option(\\\"display.max_rows\\\", 1000)\\npd.set_option(\\\"display.max_columns\\\", 1000)\\n%load_ext nb_black\";\n                var nbb_cells = Jupyter.notebook.get_cells();\n                for (var i = 0; i < nbb_cells.length; ++i) {\n                    if (nbb_cells[i].input_prompt_number == nbb_cell_id) {\n                        if (nbb_cells[i].get_text() == nbb_unformatted_code) {\n                             nbb_cells[i].set_text(nbb_formatted_code);\n                        }\n                        break;\n                    }\n                }\n            }, 500);\n            "
     },
     "metadata": {},
     "output_type": "display_data"
    }
   ],
   "source": [
    "from IPython.core.interactiveshell import InteractiveShell\n",
    "InteractiveShell.ast_node_interactivity = \"all\"\n",
    "import pandas as pd\n",
    "import numpy as np\n",
    "pd.set_option('display.max_rows', 1000)\n",
    "pd.set_option('display.max_columns', 1000)\n",
    "%load_ext nb_black"
   ],
   "metadata": {
    "collapsed": false,
    "pycharm": {
     "name": "#%%\n"
    }
   }
  },
  {
   "cell_type": "code",
   "execution_count": 79,
   "outputs": [
    {
     "data": {
      "text/plain": "7688565    2\n7719257    2\n7719292    2\n7719275    2\n7719262    2\n          ..\n8224645    1\n8228809    1\n8228810    1\n8228811    1\n9243732    1\nName: OrderItemNumber, Length: 3800, dtype: int64"
     },
     "execution_count": 79,
     "metadata": {},
     "output_type": "execute_result"
    },
    {
     "data": {
      "text/plain": "<IPython.core.display.Javascript object>",
      "application/javascript": "\n            setTimeout(function() {\n                var nbb_cell_id = 79;\n                var nbb_unformatted_code = \"df1=pd.read_csv('../data/vendor/Gooten/AMZ 1-Gooten.csv')\\ndf2=pd.read_csv(\\\"../data/vendor/Gooten/AMZ 2- Gooten.csv\\\")\\ndf=pd.concat([df1,df2])\\ndf['OrderItemNumber']=df['OrderItemNumber'].dropna()\\ndf['OrderItemNumber']=df['OrderItemNumber'].astype(np.int64)\\ndf[\\\"OrderItemNumber\\\"].value_counts()\";\n                var nbb_formatted_code = \"df1 = pd.read_csv(\\\"../data/vendor/Gooten/AMZ 1-Gooten.csv\\\")\\ndf2 = pd.read_csv(\\\"../data/vendor/Gooten/AMZ 2- Gooten.csv\\\")\\ndf = pd.concat([df1, df2])\\ndf[\\\"OrderItemNumber\\\"] = df[\\\"OrderItemNumber\\\"].dropna()\\ndf[\\\"OrderItemNumber\\\"] = df[\\\"OrderItemNumber\\\"].astype(np.int64)\\ndf[\\\"OrderItemNumber\\\"].value_counts()\";\n                var nbb_cells = Jupyter.notebook.get_cells();\n                for (var i = 0; i < nbb_cells.length; ++i) {\n                    if (nbb_cells[i].input_prompt_number == nbb_cell_id) {\n                        if (nbb_cells[i].get_text() == nbb_unformatted_code) {\n                             nbb_cells[i].set_text(nbb_formatted_code);\n                        }\n                        break;\n                    }\n                }\n            }, 500);\n            "
     },
     "metadata": {},
     "output_type": "display_data"
    }
   ],
   "source": [
    "df1=pd.read_csv('../data/vendor/Gooten/AMZ 1-Gooten.csv')\n",
    "df2=pd.read_csv(\"../data/vendor/Gooten/AMZ 2- Gooten.csv\")\n",
    "df=pd.concat([df1,df2])\n",
    "df['OrderItemNumber']=df['OrderItemNumber'].dropna()\n",
    "df['OrderItemNumber']=df['OrderItemNumber'].astype(np.int64)\n",
    "df[\"OrderItemNumber\"].value_counts()"
   ],
   "metadata": {
    "collapsed": false,
    "pycharm": {
     "name": "#%%\n"
    }
   }
  },
  {
   "cell_type": "code",
   "execution_count": 80,
   "outputs": [
    {
     "data": {
      "text/plain": "<IPython.core.display.Javascript object>",
      "application/javascript": "\n            setTimeout(function() {\n                var nbb_cell_id = 80;\n                var nbb_unformatted_code = \"df1=df[\\\"OrderItemNumber\\\"].value_counts()==1\\ntemp=df1[df1==True]\\nok=df[df['OrderItemNumber'].isin(temp.index)]\\nok.to_csv('../data/vendor_result/gooten.csv',index=False)\";\n                var nbb_formatted_code = \"df1 = df[\\\"OrderItemNumber\\\"].value_counts() == 1\\ntemp = df1[df1 == True]\\nok = df[df[\\\"OrderItemNumber\\\"].isin(temp.index)]\\nok.to_csv(\\\"../data/vendor_result/gooten.csv\\\", index=False)\";\n                var nbb_cells = Jupyter.notebook.get_cells();\n                for (var i = 0; i < nbb_cells.length; ++i) {\n                    if (nbb_cells[i].input_prompt_number == nbb_cell_id) {\n                        if (nbb_cells[i].get_text() == nbb_unformatted_code) {\n                             nbb_cells[i].set_text(nbb_formatted_code);\n                        }\n                        break;\n                    }\n                }\n            }, 500);\n            "
     },
     "metadata": {},
     "output_type": "display_data"
    }
   ],
   "source": [
    "df1=df[\"OrderItemNumber\"].value_counts()==1\n",
    "temp=df1[df1==True]\n",
    "ok=df[df['OrderItemNumber'].isin(temp.index)]\n",
    "ok.to_csv('../data/vendor_result/gooten.csv',index=False)"
   ],
   "metadata": {
    "collapsed": false,
    "pycharm": {
     "name": "#%%\n"
    }
   }
  },
  {
   "cell_type": "code",
   "execution_count": 80,
   "outputs": [
    {
     "data": {
      "text/plain": "<IPython.core.display.Javascript object>",
      "application/javascript": "\n            setTimeout(function() {\n                var nbb_cell_id = 80;\n                var nbb_unformatted_code = \"df1=df[\\\"OrderItemNumber\\\"].value_counts()==1\\ntemp=df1[df1==True]\\nok=df[df['OrderItemNumber'].isin(temp.index)]\\nok.to_csv('../data/vendor_result/gooten.csv',index=False)\";\n                var nbb_formatted_code = \"df1 = df[\\\"OrderItemNumber\\\"].value_counts() == 1\\ntemp = df1[df1 == True]\\nok = df[df[\\\"OrderItemNumber\\\"].isin(temp.index)]\\nok.to_csv(\\\"../data/vendor_result/gooten.csv\\\", index=False)\";\n                var nbb_cells = Jupyter.notebook.get_cells();\n                for (var i = 0; i < nbb_cells.length; ++i) {\n                    if (nbb_cells[i].input_prompt_number == nbb_cell_id) {\n                        if (nbb_cells[i].get_text() == nbb_unformatted_code) {\n                             nbb_cells[i].set_text(nbb_formatted_code);\n                        }\n                        break;\n                    }\n                }\n            }, 500);\n            "
     },
     "metadata": {},
     "output_type": "display_data"
    }
   ],
   "source": [],
   "metadata": {
    "collapsed": false,
    "pycharm": {
     "name": "#%%\n"
    }
   }
  }
 ],
 "metadata": {
  "kernelspec": {
   "display_name": "Python 3",
   "language": "python",
   "name": "python3"
  },
  "language_info": {
   "codemirror_mode": {
    "name": "ipython",
    "version": 2
   },
   "file_extension": ".py",
   "mimetype": "text/x-python",
   "name": "python",
   "nbconvert_exporter": "python",
   "pygments_lexer": "ipython2",
   "version": "2.7.6"
  }
 },
 "nbformat": 4,
 "nbformat_minor": 0
}