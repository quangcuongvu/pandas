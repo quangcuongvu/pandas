{
 "cells": [
  {
   "cell_type": "code",
   "execution_count": 1,
   "outputs": [
    {
     "data": {
      "text/plain": "<IPython.core.display.Javascript object>",
      "application/javascript": "\n            setTimeout(function() {\n                var nbb_cell_id = 1;\n                var nbb_unformatted_code = \"from IPython.core.interactiveshell import InteractiveShell\\nInteractiveShell.ast_node_interactivity = \\\"all\\\"\\nimport pandas as pd\\npd.set_option('display.max_rows', 1000)\\npd.set_option('display.max_columns', 1000)\\n%load_ext nb_black\";\n                var nbb_formatted_code = \"from IPython.core.interactiveshell import InteractiveShell\\n\\nInteractiveShell.ast_node_interactivity = \\\"all\\\"\\nimport pandas as pd\\n\\npd.set_option(\\\"display.max_rows\\\", 1000)\\npd.set_option(\\\"display.max_columns\\\", 1000)\\n%load_ext nb_black\";\n                var nbb_cells = Jupyter.notebook.get_cells();\n                for (var i = 0; i < nbb_cells.length; ++i) {\n                    if (nbb_cells[i].input_prompt_number == nbb_cell_id) {\n                        if (nbb_cells[i].get_text() == nbb_unformatted_code) {\n                             nbb_cells[i].set_text(nbb_formatted_code);\n                        }\n                        break;\n                    }\n                }\n            }, 500);\n            "
     },
     "metadata": {},
     "output_type": "display_data"
    }
   ],
   "source": [
    "from IPython.core.interactiveshell import InteractiveShell\n",
    "InteractiveShell.ast_node_interactivity = \"all\"\n",
    "import pandas as pd\n",
    "pd.set_option('display.max_rows', 1000)\n",
    "pd.set_option('display.max_columns', 1000)\n",
    "%load_ext nb_black"
   ],
   "metadata": {
    "collapsed": false,
    "pycharm": {
     "name": "#%%\n"
    }
   }
  },
  {
   "cell_type": "code",
   "execution_count": 10,
   "outputs": [
    {
     "data": {
      "text/plain": "<IPython.core.display.Javascript object>",
      "application/javascript": "\n            setTimeout(function() {\n                var nbb_cell_id = 10;\n                var nbb_unformatted_code = \"df1=pd.read_csv('../data/vendor/Teescape/AMZ 1/OrderDetail_2022-1.csv')\\ndf2=pd.read_csv('../data/vendor/Teescape/AMZ 1/OrderDetail_2022-2.csv')\\ndf3=pd.read_csv('../data/vendor/Teescape/AMZ 1/OrderDetail_2022-3.csv')\\ndf4=pd.read_csv('../data/vendor/Teescape/AMZ 1/OrderDetail_2022-4.csv')\\ndf5=pd.read_csv('../data/vendor/Teescape/AMZ 1/OrderDetail_2022-5.csv')\\ndf7=pd.read_csv('../data/vendor/Teescape/AMZ 1/OrderDetail_2021-7.csv')\\ndf8=pd.read_csv('../data/vendor/Teescape/AMZ 1/OrderDetail_2021-8.csv')\\ndf9=pd.read_csv('../data/vendor/Teescape/AMZ 1/OrderDetail_2021-9.csv')\\ndf10=pd.read_csv('../data/vendor/Teescape/AMZ 1/OrderDetail_2021-10.csv')\\ndf11=pd.read_csv('../data/vendor/Teescape/AMZ 1/OrderDetail_2021-11.csv')\\ndf12=pd.read_csv('../data/vendor/Teescape/AMZ 1/OrderDetail_2021-12.csv')\\ndf13=pd.read_csv('../data/vendor/Teescape/AMZ 2/OrderDetail_2021-9.csv')\\ndf14=pd.read_csv('../data/vendor/Teescape/AMZ 2/OrderDetail_2021-10.csv')\\ndf15=pd.read_csv('../data/vendor/Teescape/AMZ 2/OrderDetail_2022-5.csv')\\ndf=pd.concat([df1,df2,df3,df4,df5,df7,df8,df9,df10,df11,df12,df13,df14,df15],ignore_index=True)\\ndf.to_csv('../data/vendor_result/teescape.csv',index=False)\";\n                var nbb_formatted_code = \"df1 = pd.read_csv(\\\"../data/vendor/Teescape/AMZ 1/OrderDetail_2022-1.csv\\\")\\ndf2 = pd.read_csv(\\\"../data/vendor/Teescape/AMZ 1/OrderDetail_2022-2.csv\\\")\\ndf3 = pd.read_csv(\\\"../data/vendor/Teescape/AMZ 1/OrderDetail_2022-3.csv\\\")\\ndf4 = pd.read_csv(\\\"../data/vendor/Teescape/AMZ 1/OrderDetail_2022-4.csv\\\")\\ndf5 = pd.read_csv(\\\"../data/vendor/Teescape/AMZ 1/OrderDetail_2022-5.csv\\\")\\ndf7 = pd.read_csv(\\\"../data/vendor/Teescape/AMZ 1/OrderDetail_2021-7.csv\\\")\\ndf8 = pd.read_csv(\\\"../data/vendor/Teescape/AMZ 1/OrderDetail_2021-8.csv\\\")\\ndf9 = pd.read_csv(\\\"../data/vendor/Teescape/AMZ 1/OrderDetail_2021-9.csv\\\")\\ndf10 = pd.read_csv(\\\"../data/vendor/Teescape/AMZ 1/OrderDetail_2021-10.csv\\\")\\ndf11 = pd.read_csv(\\\"../data/vendor/Teescape/AMZ 1/OrderDetail_2021-11.csv\\\")\\ndf12 = pd.read_csv(\\\"../data/vendor/Teescape/AMZ 1/OrderDetail_2021-12.csv\\\")\\ndf13 = pd.read_csv(\\\"../data/vendor/Teescape/AMZ 2/OrderDetail_2021-9.csv\\\")\\ndf14 = pd.read_csv(\\\"../data/vendor/Teescape/AMZ 2/OrderDetail_2021-10.csv\\\")\\ndf15 = pd.read_csv(\\\"../data/vendor/Teescape/AMZ 2/OrderDetail_2022-5.csv\\\")\\ndf = pd.concat(\\n    [df1, df2, df3, df4, df5, df7, df8, df9, df10, df11, df12, df13, df14, df15],\\n    ignore_index=True,\\n)\\ndf.to_csv(\\\"../data/vendor_result/teescape.csv\\\", index=False)\";\n                var nbb_cells = Jupyter.notebook.get_cells();\n                for (var i = 0; i < nbb_cells.length; ++i) {\n                    if (nbb_cells[i].input_prompt_number == nbb_cell_id) {\n                        if (nbb_cells[i].get_text() == nbb_unformatted_code) {\n                             nbb_cells[i].set_text(nbb_formatted_code);\n                        }\n                        break;\n                    }\n                }\n            }, 500);\n            "
     },
     "metadata": {},
     "output_type": "display_data"
    }
   ],
   "source": [
    "df1=pd.read_csv('../data/vendor/Teescape/AMZ 1/OrderDetail_2022-1.csv')\n",
    "df2=pd.read_csv('../data/vendor/Teescape/AMZ 1/OrderDetail_2022-2.csv')\n",
    "df3=pd.read_csv('../data/vendor/Teescape/AMZ 1/OrderDetail_2022-3.csv')\n",
    "df4=pd.read_csv('../data/vendor/Teescape/AMZ 1/OrderDetail_2022-4.csv')\n",
    "df5=pd.read_csv('../data/vendor/Teescape/AMZ 1/OrderDetail_2022-5.csv')\n",
    "df7=pd.read_csv('../data/vendor/Teescape/AMZ 1/OrderDetail_2021-7.csv')\n",
    "df8=pd.read_csv('../data/vendor/Teescape/AMZ 1/OrderDetail_2021-8.csv')\n",
    "df9=pd.read_csv('../data/vendor/Teescape/AMZ 1/OrderDetail_2021-9.csv')\n",
    "df10=pd.read_csv('../data/vendor/Teescape/AMZ 1/OrderDetail_2021-10.csv')\n",
    "df11=pd.read_csv('../data/vendor/Teescape/AMZ 1/OrderDetail_2021-11.csv')\n",
    "df12=pd.read_csv('../data/vendor/Teescape/AMZ 1/OrderDetail_2021-12.csv')\n",
    "df13=pd.read_csv('../data/vendor/Teescape/AMZ 2/OrderDetail_2021-9.csv')\n",
    "df14=pd.read_csv('../data/vendor/Teescape/AMZ 2/OrderDetail_2021-10.csv')\n",
    "df15=pd.read_csv('../data/vendor/Teescape/AMZ 2/OrderDetail_2022-5.csv')\n",
    "df=pd.concat([df1,df2,df3,df4,df5,df7,df8,df9,df10,df11,df12,df13,df14,df15],ignore_index=True)\n",
    "df.to_csv('../data/vendor_result/teescape.csv',index=False)"
   ],
   "metadata": {
    "collapsed": false,
    "pycharm": {
     "name": "#%%\n"
    }
   }
  },
  {
   "cell_type": "code",
   "execution_count": null,
   "outputs": [],
   "source": [],
   "metadata": {
    "collapsed": false,
    "pycharm": {
     "name": "#%%\n"
    }
   }
  }
 ],
 "metadata": {
  "kernelspec": {
   "display_name": "Python 3",
   "language": "python",
   "name": "python3"
  },
  "language_info": {
   "codemirror_mode": {
    "name": "ipython",
    "version": 2
   },
   "file_extension": ".py",
   "mimetype": "text/x-python",
   "name": "python",
   "nbconvert_exporter": "python",
   "pygments_lexer": "ipython2",
   "version": "2.7.6"
  }
 },
 "nbformat": 4,
 "nbformat_minor": 0
}