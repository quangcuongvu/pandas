{
 "cells": [
  {
   "cell_type": "code",
   "execution_count": 1,
   "outputs": [
    {
     "data": {
      "text/plain": "<IPython.core.display.Javascript object>",
      "application/javascript": "\n            setTimeout(function() {\n                var nbb_cell_id = 1;\n                var nbb_unformatted_code = \"from IPython.core.interactiveshell import InteractiveShell\\nInteractiveShell.ast_node_interactivity = \\\"all\\\"\\nimport pandas as pd\\npd.set_option('display.max_rows', 1000)\\npd.set_option('display.max_columns', 1000)\\n%load_ext nb_black\";\n                var nbb_formatted_code = \"from IPython.core.interactiveshell import InteractiveShell\\n\\nInteractiveShell.ast_node_interactivity = \\\"all\\\"\\nimport pandas as pd\\n\\npd.set_option(\\\"display.max_rows\\\", 1000)\\npd.set_option(\\\"display.max_columns\\\", 1000)\\n%load_ext nb_black\";\n                var nbb_cells = Jupyter.notebook.get_cells();\n                for (var i = 0; i < nbb_cells.length; ++i) {\n                    if (nbb_cells[i].input_prompt_number == nbb_cell_id) {\n                        if (nbb_cells[i].get_text() == nbb_unformatted_code) {\n                             nbb_cells[i].set_text(nbb_formatted_code);\n                        }\n                        break;\n                    }\n                }\n            }, 500);\n            "
     },
     "metadata": {},
     "output_type": "display_data"
    }
   ],
   "source": [
    "from IPython.core.interactiveshell import InteractiveShell\n",
    "InteractiveShell.ast_node_interactivity = \"all\"\n",
    "import pandas as pd\n",
    "pd.set_option('display.max_rows', 1000)\n",
    "pd.set_option('display.max_columns', 1000)\n",
    "%load_ext nb_black"
   ],
   "metadata": {
    "collapsed": false,
    "pycharm": {
     "name": "#%%\n"
    }
   }
  },
  {
   "cell_type": "code",
   "execution_count": 26,
   "outputs": [
    {
     "data": {
      "text/plain": "PW275177    11\nPW411907    10\nPW392693     7\nPW348230     7\nPW469466     6\n            ..\nPW392931     1\nPW392932     1\nPW392933     1\nPW392934     1\nPW540883     1\nName: Order_ID, Length: 1041, dtype: int64"
     },
     "execution_count": 26,
     "metadata": {},
     "output_type": "execute_result"
    },
    {
     "data": {
      "text/plain": "<IPython.core.display.Javascript object>",
      "application/javascript": "\n            setTimeout(function() {\n                var nbb_cell_id = 26;\n                var nbb_unformatted_code = \"df1=pd.read_excel('../data/vendor/Printway/AMZ 1-Printway.xlsx')\\ndf2=pd.read_excel('../data/vendor/Printway/AMZ 2-Printway.xlsx')\\ndf=pd.concat([df1,df2])\\ndf[\\\"Order_ID\\\"].value_counts()\\ndf=df.drop_duplicates(subset=[\\\"Order_ID\\\",\\\"Item_price\\\"])\\ndf.to_csv('../data/ok/printway.csv',index=False)\";\n                var nbb_formatted_code = \"df1 = pd.read_excel(\\\"../data/vendor/Printway/AMZ 1-Printway.xlsx\\\")\\ndf2 = pd.read_excel(\\\"../data/vendor/Printway/AMZ 2-Printway.xlsx\\\")\\ndf = pd.concat([df1, df2])\\ndf[\\\"Order_ID\\\"].value_counts()\\ndf = df.drop_duplicates(subset=[\\\"Order_ID\\\", \\\"Item_price\\\"])\\ndf.to_csv(\\\"../data/ok/printway.csv\\\", index=False)\";\n                var nbb_cells = Jupyter.notebook.get_cells();\n                for (var i = 0; i < nbb_cells.length; ++i) {\n                    if (nbb_cells[i].input_prompt_number == nbb_cell_id) {\n                        if (nbb_cells[i].get_text() == nbb_unformatted_code) {\n                             nbb_cells[i].set_text(nbb_formatted_code);\n                        }\n                        break;\n                    }\n                }\n            }, 500);\n            "
     },
     "metadata": {},
     "output_type": "display_data"
    }
   ],
   "source": [
    "df1=pd.read_excel('../data/vendor/Printway/AMZ 1-Printway.xlsx')\n",
    "df2=pd.read_excel('../data/vendor/Printway/AMZ 2-Printway.xlsx')\n",
    "df=pd.concat([df1,df2])\n",
    "df[\"Order_ID\"].value_counts()\n",
    "df=df.drop_duplicates(subset=[\"Order_ID\",\"Item_price\"])\n",
    "df.to_csv('../data/ok/printway.csv',index=False)\n",
    "\n"
   ],
   "metadata": {
    "collapsed": false,
    "pycharm": {
     "name": "#%%\n"
    }
   }
  },
  {
   "cell_type": "code",
   "execution_count": null,
   "outputs": [],
   "source": [],
   "metadata": {
    "collapsed": false,
    "pycharm": {
     "name": "#%%\n"
    }
   }
  }
 ],
 "metadata": {
  "kernelspec": {
   "display_name": "Python 3",
   "language": "python",
   "name": "python3"
  },
  "language_info": {
   "codemirror_mode": {
    "name": "ipython",
    "version": 2
   },
   "file_extension": ".py",
   "mimetype": "text/x-python",
   "name": "python",
   "nbconvert_exporter": "python",
   "pygments_lexer": "ipython2",
   "version": "2.7.6"
  }
 },
 "nbformat": 4,
 "nbformat_minor": 0
}