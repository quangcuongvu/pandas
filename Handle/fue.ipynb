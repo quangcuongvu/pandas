{
 "cells": [
  {
   "cell_type": "code",
   "execution_count": 14,
   "outputs": [
    {
     "name": "stdout",
     "output_type": "stream",
     "text": [
      "The nb_black extension is already loaded. To reload it, use:\n",
      "  %reload_ext nb_black\n"
     ]
    },
    {
     "data": {
      "text/plain": "<IPython.core.display.Javascript object>",
      "application/javascript": "\n            setTimeout(function() {\n                var nbb_cell_id = 14;\n                var nbb_unformatted_code = \"from IPython.core.interactiveshell import InteractiveShell\\nInteractiveShell.ast_node_interactivity = \\\"all\\\"\\nimport pandas as pd\\npd.set_option('display.max_rows', 1000)\\npd.set_option('display.max_columns', 1000)\\n%load_ext nb_black\";\n                var nbb_formatted_code = \"from IPython.core.interactiveshell import InteractiveShell\\n\\nInteractiveShell.ast_node_interactivity = \\\"all\\\"\\nimport pandas as pd\\n\\npd.set_option(\\\"display.max_rows\\\", 1000)\\npd.set_option(\\\"display.max_columns\\\", 1000)\\n%load_ext nb_black\";\n                var nbb_cells = Jupyter.notebook.get_cells();\n                for (var i = 0; i < nbb_cells.length; ++i) {\n                    if (nbb_cells[i].input_prompt_number == nbb_cell_id) {\n                        if (nbb_cells[i].get_text() == nbb_unformatted_code) {\n                             nbb_cells[i].set_text(nbb_formatted_code);\n                        }\n                        break;\n                    }\n                }\n            }, 500);\n            "
     },
     "metadata": {},
     "output_type": "display_data"
    }
   ],
   "source": [
    "from IPython.core.interactiveshell import InteractiveShell\n",
    "InteractiveShell.ast_node_interactivity = \"all\"\n",
    "import pandas as pd\n",
    "pd.set_option('display.max_rows', 1000)\n",
    "pd.set_option('display.max_columns', 1000)\n",
    "%load_ext nb_black"
   ],
   "metadata": {
    "collapsed": false,
    "pycharm": {
     "name": "#%%\n"
    }
   }
  },
  {
   "cell_type": "code",
   "execution_count": 30,
   "outputs": [
    {
     "data": {
      "text/plain": "<IPython.core.display.Javascript object>",
      "application/javascript": "\n            setTimeout(function() {\n                var nbb_cell_id = 30;\n                var nbb_unformatted_code = \"df1 = pd.read_csv('../data/vendor/Fuel/AMZ GOD-Fuel.csv')\\ndf2= pd.read_csv('../data/vendor/Fuel/AMZ 1-Fuel.csv')\\ndf3= pd.read_csv('../data/vendor/Fuel/AMZ 2-Fuel.csv', on_bad_lines='skip')\\ndf=pd.concat([df1,df2,df3])\";\n                var nbb_formatted_code = \"df1 = pd.read_csv(\\\"../data/vendor/Fuel/AMZ GOD-Fuel.csv\\\")\\ndf2 = pd.read_csv(\\\"../data/vendor/Fuel/AMZ 1-Fuel.csv\\\")\\ndf3 = pd.read_csv(\\\"../data/vendor/Fuel/AMZ 2-Fuel.csv\\\", on_bad_lines=\\\"skip\\\")\\ndf = pd.concat([df1, df2, df3])\";\n                var nbb_cells = Jupyter.notebook.get_cells();\n                for (var i = 0; i < nbb_cells.length; ++i) {\n                    if (nbb_cells[i].input_prompt_number == nbb_cell_id) {\n                        if (nbb_cells[i].get_text() == nbb_unformatted_code) {\n                             nbb_cells[i].set_text(nbb_formatted_code);\n                        }\n                        break;\n                    }\n                }\n            }, 500);\n            "
     },
     "metadata": {},
     "output_type": "display_data"
    }
   ],
   "source": [
    "df1 = pd.read_csv('../data/vendor/Fuel/AMZ GOD-Fuel.csv')\n",
    "df2= pd.read_csv('../data/vendor/Fuel/AMZ 1-Fuel.csv')\n",
    "df3= pd.read_csv('../data/vendor/Fuel/AMZ 2-Fuel.csv', on_bad_lines='skip')\n",
    "df=pd.concat([df1,df2,df3])"
   ],
   "metadata": {
    "collapsed": false,
    "pycharm": {
     "name": "#%%\n"
    }
   }
  },
  {
   "cell_type": "code",
   "execution_count": 31,
   "outputs": [
    {
     "data": {
      "text/plain": "<IPython.core.display.Javascript object>",
      "application/javascript": "\n            setTimeout(function() {\n                var nbb_cell_id = 31;\n                var nbb_unformatted_code = \"df.to_csv('../data/ok/fuel.csv', index=False)\";\n                var nbb_formatted_code = \"df.to_csv(\\\"../data/ok/fuel.csv\\\", index=False)\";\n                var nbb_cells = Jupyter.notebook.get_cells();\n                for (var i = 0; i < nbb_cells.length; ++i) {\n                    if (nbb_cells[i].input_prompt_number == nbb_cell_id) {\n                        if (nbb_cells[i].get_text() == nbb_unformatted_code) {\n                             nbb_cells[i].set_text(nbb_formatted_code);\n                        }\n                        break;\n                    }\n                }\n            }, 500);\n            "
     },
     "metadata": {},
     "output_type": "display_data"
    }
   ],
   "source": [
    "df.to_csv('../data/ok/fuel.csv', index=False)"
   ],
   "metadata": {
    "collapsed": false,
    "pycharm": {
     "name": "#%%\n"
    }
   }
  },
  {
   "cell_type": "code",
   "execution_count": null,
   "outputs": [],
   "source": [],
   "metadata": {
    "collapsed": false,
    "pycharm": {
     "name": "#%%\n"
    }
   }
  }
 ],
 "metadata": {
  "kernelspec": {
   "display_name": "Python 3",
   "language": "python",
   "name": "python3"
  },
  "language_info": {
   "codemirror_mode": {
    "name": "ipython",
    "version": 2
   },
   "file_extension": ".py",
   "mimetype": "text/x-python",
   "name": "python",
   "nbconvert_exporter": "python",
   "pygments_lexer": "ipython2",
   "version": "2.7.6"
  }
 },
 "nbformat": 4,
 "nbformat_minor": 0
}