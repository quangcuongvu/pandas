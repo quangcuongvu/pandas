{
 "cells": [
  {
   "cell_type": "code",
   "execution_count": 23,
   "outputs": [
    {
     "name": "stdout",
     "output_type": "stream",
     "text": [
      "The nb_black extension is already loaded. To reload it, use:\n",
      "  %reload_ext nb_black\n"
     ]
    },
    {
     "data": {
      "text/plain": "<IPython.core.display.Javascript object>",
      "application/javascript": "\n            setTimeout(function() {\n                var nbb_cell_id = 23;\n                var nbb_unformatted_code = \"from IPython.core.interactiveshell import InteractiveShell\\nInteractiveShell.ast_node_interactivity = \\\"all\\\"\\nimport pandas as pd\\npd.set_option('display.max_rows', 1000)\\npd.set_option('display.max_columns', 1000)\\n%load_ext nb_black\";\n                var nbb_formatted_code = \"from IPython.core.interactiveshell import InteractiveShell\\n\\nInteractiveShell.ast_node_interactivity = \\\"all\\\"\\nimport pandas as pd\\n\\npd.set_option(\\\"display.max_rows\\\", 1000)\\npd.set_option(\\\"display.max_columns\\\", 1000)\\n%load_ext nb_black\";\n                var nbb_cells = Jupyter.notebook.get_cells();\n                for (var i = 0; i < nbb_cells.length; ++i) {\n                    if (nbb_cells[i].input_prompt_number == nbb_cell_id) {\n                        if (nbb_cells[i].get_text() == nbb_unformatted_code) {\n                             nbb_cells[i].set_text(nbb_formatted_code);\n                        }\n                        break;\n                    }\n                }\n            }, 500);\n            "
     },
     "metadata": {},
     "output_type": "display_data"
    }
   ],
   "source": [
    "from IPython.core.interactiveshell import InteractiveShell\n",
    "InteractiveShell.ast_node_interactivity = \"all\"\n",
    "import pandas as pd\n",
    "pd.set_option('display.max_rows', 1000)\n",
    "pd.set_option('display.max_columns', 1000)\n",
    "%load_ext nb_black"
   ],
   "metadata": {
    "collapsed": false,
    "pycharm": {
     "name": "#%%\n"
    }
   }
  },
  {
   "cell_type": "code",
   "execution_count": 24,
   "outputs": [
    {
     "data": {
      "text/plain": "<IPython.core.display.Javascript object>",
      "application/javascript": "\n            setTimeout(function() {\n                var nbb_cell_id = 24;\n                var nbb_unformatted_code = \"df=pd.read_csv('../data/vendor/ShineOn/AMZ2-Shineon.csv')\";\n                var nbb_formatted_code = \"df = pd.read_csv(\\\"../data/vendor/ShineOn/AMZ2-Shineon.csv\\\")\";\n                var nbb_cells = Jupyter.notebook.get_cells();\n                for (var i = 0; i < nbb_cells.length; ++i) {\n                    if (nbb_cells[i].input_prompt_number == nbb_cell_id) {\n                        if (nbb_cells[i].get_text() == nbb_unformatted_code) {\n                             nbb_cells[i].set_text(nbb_formatted_code);\n                        }\n                        break;\n                    }\n                }\n            }, 500);\n            "
     },
     "metadata": {},
     "output_type": "display_data"
    }
   ],
   "source": [
    "df=pd.read_csv('../data/vendor/ShineOn/AMZ2-Shineon.csv')\n"
   ],
   "metadata": {
    "collapsed": false,
    "pycharm": {
     "name": "#%%\n"
    }
   }
  },
  {
   "cell_type": "code",
   "execution_count": 25,
   "outputs": [
    {
     "data": {
      "text/plain": "           Order     Status  Store Order ID  Line Item ID Order Created  \\\n0  SHINE-1939137  cancelled   4256795623587  1.082211e+13    12/08/2021   \n1  SHINE-1977280    shipped   4261198364835  1.083026e+13    12/11/2021   \n2  SHINE-1977280    shipped   4261198364835           NaN    12/11/2021   \n3  SHINE-1977280    shipped   4261198364835           NaN    12/11/2021   \n4  SHINE-1978201  cancelled   4261325340835  1.083048e+13    12/11/2021   \n\n        Store Name  Order Number  \\\n0  Family Clothing         12234   \n1  Family Clothing         12350   \n2  Family Clothing         12350   \n3  Family Clothing         12350   \n4  Family Clothing         12355   \n\n                                             Product  \\\n0        Test FF SO *Refunded *Buyer cancelled order   \n1               113-0362339-1304247-12337105118282-0   \n2                                          Engraving   \n3                                Personalization Fee   \n4  113-0362339-1304247-12337105118282-0 *Refunded...   \n\n                                       Variant  Quantity  Line Item Cost  \\\n0  Luxury Necklace (.316 Surgical Steel) / Yes         0            0.00   \n1  Luxury Necklace (.316 Surgical Steel) / Yes         1            9.60   \n2                                          NaN         1            5.00   \n3                                          NaN         1            2.75   \n4               Luxury Necklace (Silver) / Yes         0            0.00   \n\n   Line Item Shipping Cost  Line Item Sale  Est. Line Item Shipping  \\\n0                     3.22            0.00                      0.0   \n1                     5.17           64.95                      0.0   \n2                     0.00            0.00                      0.0   \n3                     0.00            0.00                      0.0   \n4                     3.22            0.00                      0.0   \n\n          Tracking Number Customer Email First Name Last Name        Address1  \\\n0                     NaN            NaN      Shawn   Balinas   23 Farview St   \n1  9400111202555050509204            NaN     Maggie  Chamorro  4220 1ST AVE N   \n2                     NaN            NaN     Maggie  Chamorro  4220 1ST AVE N   \n3                     NaN            NaN     Maggie  Chamorro  4220 1ST AVE N   \n4                     NaN            NaN     Maggie  Chamorro  4220 1ST AVE N   \n\n  Address2              City Province         Zip Country Invoice Number  \\\n0      NaN        Carbondale       PA          1w      US       Not Paid   \n1      NaN  SAINT PETERSBURG       FL  33713-8204      US     INV-339934   \n2      NaN  SAINT PETERSBURG       FL  33713-8204      US     INV-339934   \n3      NaN  SAINT PETERSBURG       FL  33713-8204      US     INV-339934   \n4      NaN  SAINT PETERSBURG       FL  33713-8204      US       Not Paid   \n\n     Invoiced Payment  \n0         NaN  Unpaid  \n1  12/13/2021  Paypal  \n2  12/13/2021  Paypal  \n3  12/13/2021  Paypal  \n4         NaN  Unpaid  ",
      "text/html": "<div>\n<style scoped>\n    .dataframe tbody tr th:only-of-type {\n        vertical-align: middle;\n    }\n\n    .dataframe tbody tr th {\n        vertical-align: top;\n    }\n\n    .dataframe thead th {\n        text-align: right;\n    }\n</style>\n<table border=\"1\" class=\"dataframe\">\n  <thead>\n    <tr style=\"text-align: right;\">\n      <th></th>\n      <th>Order</th>\n      <th>Status</th>\n      <th>Store Order ID</th>\n      <th>Line Item ID</th>\n      <th>Order Created</th>\n      <th>Store Name</th>\n      <th>Order Number</th>\n      <th>Product</th>\n      <th>Variant</th>\n      <th>Quantity</th>\n      <th>Line Item Cost</th>\n      <th>Line Item Shipping Cost</th>\n      <th>Line Item Sale</th>\n      <th>Est. Line Item Shipping</th>\n      <th>Tracking Number</th>\n      <th>Customer Email</th>\n      <th>First Name</th>\n      <th>Last Name</th>\n      <th>Address1</th>\n      <th>Address2</th>\n      <th>City</th>\n      <th>Province</th>\n      <th>Zip</th>\n      <th>Country</th>\n      <th>Invoice Number</th>\n      <th>Invoiced</th>\n      <th>Payment</th>\n    </tr>\n  </thead>\n  <tbody>\n    <tr>\n      <th>0</th>\n      <td>SHINE-1939137</td>\n      <td>cancelled</td>\n      <td>4256795623587</td>\n      <td>1.082211e+13</td>\n      <td>12/08/2021</td>\n      <td>Family Clothing</td>\n      <td>12234</td>\n      <td>Test FF SO *Refunded *Buyer cancelled order</td>\n      <td>Luxury Necklace (.316 Surgical Steel) / Yes</td>\n      <td>0</td>\n      <td>0.00</td>\n      <td>3.22</td>\n      <td>0.00</td>\n      <td>0.0</td>\n      <td>NaN</td>\n      <td>NaN</td>\n      <td>Shawn</td>\n      <td>Balinas</td>\n      <td>23 Farview St</td>\n      <td>NaN</td>\n      <td>Carbondale</td>\n      <td>PA</td>\n      <td>1w</td>\n      <td>US</td>\n      <td>Not Paid</td>\n      <td>NaN</td>\n      <td>Unpaid</td>\n    </tr>\n    <tr>\n      <th>1</th>\n      <td>SHINE-1977280</td>\n      <td>shipped</td>\n      <td>4261198364835</td>\n      <td>1.083026e+13</td>\n      <td>12/11/2021</td>\n      <td>Family Clothing</td>\n      <td>12350</td>\n      <td>113-0362339-1304247-12337105118282-0</td>\n      <td>Luxury Necklace (.316 Surgical Steel) / Yes</td>\n      <td>1</td>\n      <td>9.60</td>\n      <td>5.17</td>\n      <td>64.95</td>\n      <td>0.0</td>\n      <td>9400111202555050509204</td>\n      <td>NaN</td>\n      <td>Maggie</td>\n      <td>Chamorro</td>\n      <td>4220 1ST AVE N</td>\n      <td>NaN</td>\n      <td>SAINT PETERSBURG</td>\n      <td>FL</td>\n      <td>33713-8204</td>\n      <td>US</td>\n      <td>INV-339934</td>\n      <td>12/13/2021</td>\n      <td>Paypal</td>\n    </tr>\n    <tr>\n      <th>2</th>\n      <td>SHINE-1977280</td>\n      <td>shipped</td>\n      <td>4261198364835</td>\n      <td>NaN</td>\n      <td>12/11/2021</td>\n      <td>Family Clothing</td>\n      <td>12350</td>\n      <td>Engraving</td>\n      <td>NaN</td>\n      <td>1</td>\n      <td>5.00</td>\n      <td>0.00</td>\n      <td>0.00</td>\n      <td>0.0</td>\n      <td>NaN</td>\n      <td>NaN</td>\n      <td>Maggie</td>\n      <td>Chamorro</td>\n      <td>4220 1ST AVE N</td>\n      <td>NaN</td>\n      <td>SAINT PETERSBURG</td>\n      <td>FL</td>\n      <td>33713-8204</td>\n      <td>US</td>\n      <td>INV-339934</td>\n      <td>12/13/2021</td>\n      <td>Paypal</td>\n    </tr>\n    <tr>\n      <th>3</th>\n      <td>SHINE-1977280</td>\n      <td>shipped</td>\n      <td>4261198364835</td>\n      <td>NaN</td>\n      <td>12/11/2021</td>\n      <td>Family Clothing</td>\n      <td>12350</td>\n      <td>Personalization Fee</td>\n      <td>NaN</td>\n      <td>1</td>\n      <td>2.75</td>\n      <td>0.00</td>\n      <td>0.00</td>\n      <td>0.0</td>\n      <td>NaN</td>\n      <td>NaN</td>\n      <td>Maggie</td>\n      <td>Chamorro</td>\n      <td>4220 1ST AVE N</td>\n      <td>NaN</td>\n      <td>SAINT PETERSBURG</td>\n      <td>FL</td>\n      <td>33713-8204</td>\n      <td>US</td>\n      <td>INV-339934</td>\n      <td>12/13/2021</td>\n      <td>Paypal</td>\n    </tr>\n    <tr>\n      <th>4</th>\n      <td>SHINE-1978201</td>\n      <td>cancelled</td>\n      <td>4261325340835</td>\n      <td>1.083048e+13</td>\n      <td>12/11/2021</td>\n      <td>Family Clothing</td>\n      <td>12355</td>\n      <td>113-0362339-1304247-12337105118282-0 *Refunded...</td>\n      <td>Luxury Necklace (Silver) / Yes</td>\n      <td>0</td>\n      <td>0.00</td>\n      <td>3.22</td>\n      <td>0.00</td>\n      <td>0.0</td>\n      <td>NaN</td>\n      <td>NaN</td>\n      <td>Maggie</td>\n      <td>Chamorro</td>\n      <td>4220 1ST AVE N</td>\n      <td>NaN</td>\n      <td>SAINT PETERSBURG</td>\n      <td>FL</td>\n      <td>33713-8204</td>\n      <td>US</td>\n      <td>Not Paid</td>\n      <td>NaN</td>\n      <td>Unpaid</td>\n    </tr>\n  </tbody>\n</table>\n</div>"
     },
     "execution_count": 25,
     "metadata": {},
     "output_type": "execute_result"
    },
    {
     "data": {
      "text/plain": "<IPython.core.display.Javascript object>",
      "application/javascript": "\n            setTimeout(function() {\n                var nbb_cell_id = 25;\n                var nbb_unformatted_code = \"df.head(n=5)\";\n                var nbb_formatted_code = \"df.head(n=5)\";\n                var nbb_cells = Jupyter.notebook.get_cells();\n                for (var i = 0; i < nbb_cells.length; ++i) {\n                    if (nbb_cells[i].input_prompt_number == nbb_cell_id) {\n                        if (nbb_cells[i].get_text() == nbb_unformatted_code) {\n                             nbb_cells[i].set_text(nbb_formatted_code);\n                        }\n                        break;\n                    }\n                }\n            }, 500);\n            "
     },
     "metadata": {},
     "output_type": "display_data"
    }
   ],
   "source": [
    "df.head(n=5)"
   ],
   "metadata": {
    "collapsed": false,
    "pycharm": {
     "name": "#%%\n"
    }
   }
  },
  {
   "cell_type": "code",
   "execution_count": 33,
   "outputs": [
    {
     "data": {
      "text/plain": "array(['Order', 'Status', 'Store Order ID', 'Line Item ID',\n       'Order Created', 'Store Name', 'Order Number', 'Product',\n       'Variant', 'Quantity', 'Line Item Cost', 'Line Item Shipping Cost',\n       'Line Item Sale', 'Est. Line Item Shipping', 'Tracking Number',\n       'Customer Email', 'First Name', 'Last Name', 'Address1',\n       'Address2', 'City', 'Province', 'Zip', 'Country', 'Invoice Number',\n       'Invoiced', 'Payment'], dtype=object)"
     },
     "execution_count": 33,
     "metadata": {},
     "output_type": "execute_result"
    },
    {
     "data": {
      "text/plain": "(248, 27)"
     },
     "execution_count": 33,
     "metadata": {},
     "output_type": "execute_result"
    },
    {
     "data": {
      "text/plain": "SHINE-1977280    3\nSHINE-2147121    3\nSHINE-2032965    3\nSHINE-2032988    3\nSHINE-2100499    2\nSHINE-2121200    2\nSHINE-2192094    2\nSHINE-2099020    2\nSHINE-2098452    2\nSHINE-2177464    2\nSHINE-2020161    2\nSHINE-2003232    2\nSHINE-2216661    1\nSHINE-2225342    1\nSHINE-2216663    1\nSHINE-2219245    1\nSHINE-2215353    1\nSHINE-2219300    1\nSHINE-2223374    1\nSHINE-2223965    1\nSHINE-2225371    1\nSHINE-2216662    1\nSHINE-2231394    1\nSHINE-2227559    1\nSHINE-2231375    1\nSHINE-2212313    1\nSHINE-2231307    1\nSHINE-2234889    1\nSHINE-2238231    1\nSHINE-2238232    1\nSHINE-2239701    1\nSHINE-2243099    1\nSHINE-2243086    1\nSHINE-2248444    1\nSHINE-2250249    1\nSHINE-2215374    1\nSHINE-1939137    1\nSHINE-2212322    1\nSHINE-2212333    1\nSHINE-2191514    1\nSHINE-2191575    1\nSHINE-2191574    1\nSHINE-2191556    1\nSHINE-2191550    1\nSHINE-2193594    1\nSHINE-2193588    1\nSHINE-2193642    1\nSHINE-2193563    1\nSHINE-2193649    1\nSHINE-2193573    1\nSHINE-2196516    1\nSHINE-2196522    1\nSHINE-2196517    1\nSHINE-2196679    1\nSHINE-2203508    1\nSHINE-2203475    1\nSHINE-2204855    1\nSHINE-2206403    1\nSHINE-2207973    1\nSHINE-2207995    1\nSHINE-2212280    1\nSHINE-2261394    1\nSHINE-2212329    1\nSHINE-2212281    1\nSHINE-2256735    1\nSHINE-2275657    1\nSHINE-2266443    1\nSHINE-2379309    1\nSHINE-2364894    1\nSHINE-2364860    1\nSHINE-2366000    1\nSHINE-2366883    1\nSHINE-2368746    1\nSHINE-2368717    1\nSHINE-2369654    1\nSHINE-2371720    1\nSHINE-2371966    1\nSHINE-2378322    1\nSHINE-2378323    1\nSHINE-2383395    1\nSHINE-2364898    1\nSHINE-2383438    1\nSHINE-2385525    1\nSHINE-2387307    1\nSHINE-2390889    1\nSHINE-2392004    1\nSHINE-2396600    1\nSHINE-2397649    1\nSHINE-2397589    1\nSHINE-2397599    1\nSHINE-2400127    1\nSHINE-2400128    1\nSHINE-2364908    1\nSHINE-2364927    1\nSHINE-2266458    1\nSHINE-2303558    1\nSHINE-2266433    1\nSHINE-2268269    1\nSHINE-2191529    1\nSHINE-2281096    1\nSHINE-2281102    1\nSHINE-2281093    1\nSHINE-2281114    1\nSHINE-2281074    1\nSHINE-2284397    1\nSHINE-2284350    1\nSHINE-2290999    1\nSHINE-2303557    1\nSHINE-2364925    1\nSHINE-2310119    1\nSHINE-2313736    1\nSHINE-2315938    1\nSHINE-2326410    1\nSHINE-2340802    1\nSHINE-2340796    1\nSHINE-2354599    1\nSHINE-2357775    1\nSHINE-2357710    1\nSHINE-2360331    1\nSHINE-2362518    1\nSHINE-2191552    1\nSHINE-2187833    1\nSHINE-2191539    1\nSHINE-2126124    1\nSHINE-2109633    1\nSHINE-2116628    1\nSHINE-2116629    1\nSHINE-2118507    1\nSHINE-2118446    1\nSHINE-2118517    1\nSHINE-2118472    1\nSHINE-2126025    1\nSHINE-2126078    1\nSHINE-2126045    1\nSHINE-2125980    1\nSHINE-2127097    1\nSHINE-2105527    1\nSHINE-2129134    1\nSHINE-2129079    1\nSHINE-2129213    1\nSHINE-2129105    1\nSHINE-2151492    1\nSHINE-2151493    1\nSHINE-2171829    1\nSHINE-2171783    1\nSHINE-2177348    1\nSHINE-2177440    1\nSHINE-2177376    1\nSHINE-2105631    1\nSHINE-2105541    1\nSHINE-2187813    1\nSHINE-2095314    1\nSHINE-1978201    1\nSHINE-2032369    1\nSHINE-2043294    1\nSHINE-2093082    1\nSHINE-2094674    1\nSHINE-2095322    1\nSHINE-2095334    1\nSHINE-2095319    1\nSHINE-2095303    1\nSHINE-2095316    1\nSHINE-2095309    1\nSHINE-2095325    1\nSHINE-2103802    1\nSHINE-2095297    1\nSHINE-2096198    1\nSHINE-2099011    1\nSHINE-2099012    1\nSHINE-2099013    1\nSHINE-2099014    1\nSHINE-2099015    1\nSHINE-2099016    1\nSHINE-2099017    1\nSHINE-2099018    1\nSHINE-2099019    1\nSHINE-2177356    1\nSHINE-2177392    1\nSHINE-2177360    1\nSHINE-2183406    1\nSHINE-2183341    1\nSHINE-2183306    1\nSHINE-2183309    1\nSHINE-2183351    1\nSHINE-2183308    1\nSHINE-2183336    1\nSHINE-2183411    1\nSHINE-2183304    1\nSHINE-2183346    1\nSHINE-2183305    1\nSHINE-2183339    1\nSHINE-2183313    1\nSHINE-2177332    1\nSHINE-2183343    1\nSHINE-2185302    1\nSHINE-2185317    1\nSHINE-2186304    1\nSHINE-2187832    1\nSHINE-2187808    1\nSHINE-2187860    1\nSHINE-2187861    1\nSHINE-2187809    1\nSHINE-2187831    1\nSHINE-2187811    1\nSHINE-2183342    1\nSHINE-2183333    1\nSHINE-2183410    1\nSHINE-2183337    1\nSHINE-2177473    1\nSHINE-2177459    1\nSHINE-2177471    1\nSHINE-2177367    1\nSHINE-2177466    1\nSHINE-2177413    1\nSHINE-2177467    1\nSHINE-2177389    1\nSHINE-2177468    1\nSHINE-2177404    1\nSHINE-2177311    1\nSHINE-2177402    1\nSHINE-2177383    1\nSHINE-2177477    1\nSHINE-2177441    1\nSHINE-2177479    1\nSHINE-2177318    1\nSHINE-2177396    1\nSHINE-2177324    1\nSHINE-2177458    1\nSHINE-2177475    1\nSHINE-2183334    1\nSHINE-2183303    1\nSHINE-2400994    1\nName: Order, dtype: int64"
     },
     "execution_count": 33,
     "metadata": {},
     "output_type": "execute_result"
    },
    {
     "data": {
      "text/plain": "            Order   Status  Store Order ID  Line Item ID Order Created  \\\n69  SHINE-2147121  shipped   4331992940707  1.097505e+13    02/02/2022   \n70  SHINE-2147121  shipped   4331992940707           NaN    02/02/2022   \n71  SHINE-2147121  shipped   4331992940707           NaN    02/02/2022   \n\n         Store Name  Order Number              Product  \\\n69  Family Clothing         13184  113-4329388-9210641   \n70  Family Clothing         13184            Engraving   \n71  Family Clothing         13184  Personalization Fee   \n\n                                        Variant  Quantity  Line Item Cost  \\\n69  Luxury Necklace (.316 Surgical Steel) / Yes         1            9.60   \n70                                          NaN         1            5.00   \n71                                          NaN         1            2.75   \n\n    Line Item Shipping Cost  Line Item Sale  Est. Line Item Shipping  \\\n69                     5.17           64.95                      0.0   \n70                     0.00            0.00                      0.0   \n71                     0.00            0.00                      0.0   \n\n           Tracking Number Customer Email First Name Last Name  \\\n69  9400111202508810293714            NaN  Stephanie       NaN   \n70                     NaN            NaN  Stephanie       NaN   \n71                     NaN            NaN  Stephanie       NaN   \n\n           Address1 Address2  City Province    Zip Country Invoice Number  \\\n69  1875 McLay road      NaN  Vale       OR  97918      US     INV-372095   \n70  1875 McLay road      NaN  Vale       OR  97918      US     INV-372095   \n71  1875 McLay road      NaN  Vale       OR  97918      US     INV-372095   \n\n      Invoiced Payment  \n69  02/02/2022  Paypal  \n70  02/02/2022  Paypal  \n71  02/02/2022  Paypal  ",
      "text/html": "<div>\n<style scoped>\n    .dataframe tbody tr th:only-of-type {\n        vertical-align: middle;\n    }\n\n    .dataframe tbody tr th {\n        vertical-align: top;\n    }\n\n    .dataframe thead th {\n        text-align: right;\n    }\n</style>\n<table border=\"1\" class=\"dataframe\">\n  <thead>\n    <tr style=\"text-align: right;\">\n      <th></th>\n      <th>Order</th>\n      <th>Status</th>\n      <th>Store Order ID</th>\n      <th>Line Item ID</th>\n      <th>Order Created</th>\n      <th>Store Name</th>\n      <th>Order Number</th>\n      <th>Product</th>\n      <th>Variant</th>\n      <th>Quantity</th>\n      <th>Line Item Cost</th>\n      <th>Line Item Shipping Cost</th>\n      <th>Line Item Sale</th>\n      <th>Est. Line Item Shipping</th>\n      <th>Tracking Number</th>\n      <th>Customer Email</th>\n      <th>First Name</th>\n      <th>Last Name</th>\n      <th>Address1</th>\n      <th>Address2</th>\n      <th>City</th>\n      <th>Province</th>\n      <th>Zip</th>\n      <th>Country</th>\n      <th>Invoice Number</th>\n      <th>Invoiced</th>\n      <th>Payment</th>\n    </tr>\n  </thead>\n  <tbody>\n    <tr>\n      <th>69</th>\n      <td>SHINE-2147121</td>\n      <td>shipped</td>\n      <td>4331992940707</td>\n      <td>1.097505e+13</td>\n      <td>02/02/2022</td>\n      <td>Family Clothing</td>\n      <td>13184</td>\n      <td>113-4329388-9210641</td>\n      <td>Luxury Necklace (.316 Surgical Steel) / Yes</td>\n      <td>1</td>\n      <td>9.60</td>\n      <td>5.17</td>\n      <td>64.95</td>\n      <td>0.0</td>\n      <td>9400111202508810293714</td>\n      <td>NaN</td>\n      <td>Stephanie</td>\n      <td>NaN</td>\n      <td>1875 McLay road</td>\n      <td>NaN</td>\n      <td>Vale</td>\n      <td>OR</td>\n      <td>97918</td>\n      <td>US</td>\n      <td>INV-372095</td>\n      <td>02/02/2022</td>\n      <td>Paypal</td>\n    </tr>\n    <tr>\n      <th>70</th>\n      <td>SHINE-2147121</td>\n      <td>shipped</td>\n      <td>4331992940707</td>\n      <td>NaN</td>\n      <td>02/02/2022</td>\n      <td>Family Clothing</td>\n      <td>13184</td>\n      <td>Engraving</td>\n      <td>NaN</td>\n      <td>1</td>\n      <td>5.00</td>\n      <td>0.00</td>\n      <td>0.00</td>\n      <td>0.0</td>\n      <td>NaN</td>\n      <td>NaN</td>\n      <td>Stephanie</td>\n      <td>NaN</td>\n      <td>1875 McLay road</td>\n      <td>NaN</td>\n      <td>Vale</td>\n      <td>OR</td>\n      <td>97918</td>\n      <td>US</td>\n      <td>INV-372095</td>\n      <td>02/02/2022</td>\n      <td>Paypal</td>\n    </tr>\n    <tr>\n      <th>71</th>\n      <td>SHINE-2147121</td>\n      <td>shipped</td>\n      <td>4331992940707</td>\n      <td>NaN</td>\n      <td>02/02/2022</td>\n      <td>Family Clothing</td>\n      <td>13184</td>\n      <td>Personalization Fee</td>\n      <td>NaN</td>\n      <td>1</td>\n      <td>2.75</td>\n      <td>0.00</td>\n      <td>0.00</td>\n      <td>0.0</td>\n      <td>NaN</td>\n      <td>NaN</td>\n      <td>Stephanie</td>\n      <td>NaN</td>\n      <td>1875 McLay road</td>\n      <td>NaN</td>\n      <td>Vale</td>\n      <td>OR</td>\n      <td>97918</td>\n      <td>US</td>\n      <td>INV-372095</td>\n      <td>02/02/2022</td>\n      <td>Paypal</td>\n    </tr>\n  </tbody>\n</table>\n</div>"
     },
     "execution_count": 33,
     "metadata": {},
     "output_type": "execute_result"
    },
    {
     "data": {
      "text/plain": "<IPython.core.display.Javascript object>",
      "application/javascript": "\n            setTimeout(function() {\n                var nbb_cell_id = 33;\n                var nbb_unformatted_code = \"df.columns.values\\ndf.shape\\ndf['Order'].value_counts()\\nid=\\\"SHINE-2147121\\\"\\ndf[df['Order']==id]\\ndf.drop_duplicates(subset=['Order','Line Item Cost'], keep='first', inplace=True)\\ndata=df['Order'].value_counts()==1\\ntemp=data[data==True]\\norder=df[df['Order'].isin(temp.index)]\\norder.to_csv('../data/ok/shineon.csv', index=False)\\ntemp2=data[data==False]\\norder2=df[df['Order'].isin(temp2.index)]\\norder2.to_csv('../data/report/shineon-wrong-basecost.csv', index=False)\\n# order=burgerPrint[\\\"ORDER\\\"].value_counts()==1\\n# temp=order[order==True]\\n# temp.shape\\n# burgerPrint=burgerPrint[burgerPrint['ORDER'].isin(temp.index)]\\n# burgerPrint.to_csv(\\\"../data/ok/burgerPrint.csv\\\",index=False)\";\n                var nbb_formatted_code = \"df.columns.values\\ndf.shape\\ndf[\\\"Order\\\"].value_counts()\\nid = \\\"SHINE-2147121\\\"\\ndf[df[\\\"Order\\\"] == id]\\ndf.drop_duplicates(subset=[\\\"Order\\\", \\\"Line Item Cost\\\"], keep=\\\"first\\\", inplace=True)\\ndata = df[\\\"Order\\\"].value_counts() == 1\\ntemp = data[data == True]\\norder = df[df[\\\"Order\\\"].isin(temp.index)]\\norder.to_csv(\\\"../data/ok/shineon.csv\\\", index=False)\\ntemp2 = data[data == False]\\norder2 = df[df[\\\"Order\\\"].isin(temp2.index)]\\norder2.to_csv(\\\"../data/report/shineon-wrong-basecost.csv\\\", index=False)\\n# order=burgerPrint[\\\"ORDER\\\"].value_counts()==1\\n# temp=order[order==True]\\n# temp.shape\\n# burgerPrint=burgerPrint[burgerPrint['ORDER'].isin(temp.index)]\\n# burgerPrint.to_csv(\\\"../data/ok/burgerPrint.csv\\\",index=False)\";\n                var nbb_cells = Jupyter.notebook.get_cells();\n                for (var i = 0; i < nbb_cells.length; ++i) {\n                    if (nbb_cells[i].input_prompt_number == nbb_cell_id) {\n                        if (nbb_cells[i].get_text() == nbb_unformatted_code) {\n                             nbb_cells[i].set_text(nbb_formatted_code);\n                        }\n                        break;\n                    }\n                }\n            }, 500);\n            "
     },
     "metadata": {},
     "output_type": "display_data"
    }
   ],
   "source": [
    "df.columns.values\n",
    "df.shape\n",
    "df['Order'].value_counts()\n",
    "id=\"SHINE-2147121\"\n",
    "df[df['Order']==id]\n",
    "df.drop_duplicates(subset=['Order','Line Item Cost'], keep='first', inplace=True)\n",
    "data=df['Order'].value_counts()==1\n",
    "temp=data[data==True]\n",
    "order=df[df['Order'].isin(temp.index)]\n",
    "order.to_csv('../data/ok/shineon.csv', index=False)\n",
    "temp2=data[data==False]\n",
    "order2=df[df['Order'].isin(temp2.index)]\n",
    "order2.to_csv('../data/report/shineon-wrong-basecost.csv', index=False)\n",
    "# order=burgerPrint[\"ORDER\"].value_counts()==1\n",
    "# temp=order[order==True]\n",
    "# temp.shape\n",
    "# burgerPrint=burgerPrint[burgerPrint['ORDER'].isin(temp.index)]\n",
    "# burgerPrint.to_csv(\"../data/ok/burgerPrint.csv\",index=False)"
   ],
   "metadata": {
    "collapsed": false,
    "pycharm": {
     "name": "#%%\n"
    }
   }
  },
  {
   "cell_type": "code",
   "execution_count": 26,
   "outputs": [
    {
     "data": {
      "text/plain": "<IPython.core.display.Javascript object>",
      "application/javascript": "\n            setTimeout(function() {\n                var nbb_cell_id = 26;\n                var nbb_unformatted_code = \"df.columns.values\\ndf.shape\\ndf['Order'].value_counts()\\nid=\\\"SHINE-2147121\\\"\\ndf[df['Order']==id]\\ndf.drop_duplicates(subset=['Order','Line Item Cost'], keep='first', inplace=True)\\ndf.shape\";\n                var nbb_formatted_code = \"df.columns.values\\ndf.shape\\ndf[\\\"Order\\\"].value_counts()\\nid = \\\"SHINE-2147121\\\"\\ndf[df[\\\"Order\\\"] == id]\\ndf.drop_duplicates(subset=[\\\"Order\\\", \\\"Line Item Cost\\\"], keep=\\\"first\\\", inplace=True)\\ndf.shape\";\n                var nbb_cells = Jupyter.notebook.get_cells();\n                for (var i = 0; i < nbb_cells.length; ++i) {\n                    if (nbb_cells[i].input_prompt_number == nbb_cell_id) {\n                        if (nbb_cells[i].get_text() == nbb_unformatted_code) {\n                             nbb_cells[i].set_text(nbb_formatted_code);\n                        }\n                        break;\n                    }\n                }\n            }, 500);\n            "
     },
     "metadata": {},
     "output_type": "display_data"
    }
   ],
   "source": [],
   "metadata": {
    "collapsed": false,
    "pycharm": {
     "name": "#%%\n"
    }
   }
  }
 ],
 "metadata": {
  "kernelspec": {
   "display_name": "Python 3",
   "language": "python",
   "name": "python3"
  },
  "language_info": {
   "codemirror_mode": {
    "name": "ipython",
    "version": 2
   },
   "file_extension": ".py",
   "mimetype": "text/x-python",
   "name": "python",
   "nbconvert_exporter": "python",
   "pygments_lexer": "ipython2",
   "version": "2.7.6"
  }
 },
 "nbformat": 4,
 "nbformat_minor": 0
}