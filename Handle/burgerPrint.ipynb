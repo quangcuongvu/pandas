{
 "cells": [
  {
   "cell_type": "code",
   "execution_count": 10,
   "outputs": [
    {
     "name": "stdout",
     "output_type": "stream",
     "text": [
      "The nb_black extension is already loaded. To reload it, use:\n",
      "  %reload_ext nb_black\n"
     ]
    },
    {
     "data": {
      "text/plain": "<IPython.core.display.Javascript object>",
      "application/javascript": "\n            setTimeout(function() {\n                var nbb_cell_id = 10;\n                var nbb_unformatted_code = \"from IPython.core.interactiveshell import InteractiveShell\\nInteractiveShell.ast_node_interactivity = \\\"all\\\"\\nimport pandas as pd\\npd.set_option('display.max_rows', 1000)\\npd.set_option('display.max_columns', 1000)\\n%load_ext nb_black\";\n                var nbb_formatted_code = \"from IPython.core.interactiveshell import InteractiveShell\\n\\nInteractiveShell.ast_node_interactivity = \\\"all\\\"\\nimport pandas as pd\\n\\npd.set_option(\\\"display.max_rows\\\", 1000)\\npd.set_option(\\\"display.max_columns\\\", 1000)\\n%load_ext nb_black\";\n                var nbb_cells = Jupyter.notebook.get_cells();\n                for (var i = 0; i < nbb_cells.length; ++i) {\n                    if (nbb_cells[i].input_prompt_number == nbb_cell_id) {\n                        if (nbb_cells[i].get_text() == nbb_unformatted_code) {\n                             nbb_cells[i].set_text(nbb_formatted_code);\n                        }\n                        break;\n                    }\n                }\n            }, 500);\n            "
     },
     "metadata": {},
     "output_type": "display_data"
    }
   ],
   "source": [
    "from IPython.core.interactiveshell import InteractiveShell\n",
    "InteractiveShell.ast_node_interactivity = \"all\"\n",
    "import pandas as pd\n",
    "pd.set_option('display.max_rows', 1000)\n",
    "pd.set_option('display.max_columns', 1000)\n",
    "%load_ext nb_black"
   ],
   "metadata": {
    "collapsed": false,
    "pycharm": {
     "name": "#%%\n"
    }
   }
  },
  {
   "cell_type": "code",
   "execution_count": 11,
   "outputs": [
    {
     "data": {
      "text/plain": "A16735-992-APHD-1070292     3\nA16735-CT-1210614           2\nA16735-CT-1210087           2\nA16735-539-APTS-1022303     2\nA16735-1629-APHD-1104355    2\n                           ..\nA16735-2240-APHD-1132391    1\nA16735-2239-APHD-1132383    1\nA16735-2238-APHD-1132370    1\nA16735-2237-APHD-1132368    1\nA21579-23-APHD-1046249      1\nName: ORDER, Length: 2486, dtype: int64"
     },
     "execution_count": 11,
     "metadata": {},
     "output_type": "execute_result"
    },
    {
     "data": {
      "text/plain": "<IPython.core.display.Javascript object>",
      "application/javascript": "\n            setTimeout(function() {\n                var nbb_cell_id = 11;\n                var nbb_unformatted_code = \"# BurgerPrints\\nburgerPrint1=pd.read_csv(\\\"../data/vendor/Burgerprints/AMZ1-Burgerprint.csv\\\")\\nburgerPrint2=pd.read_csv(\\\"../data/vendor/Burgerprints/AMZ 2-BurgerPrint.csv\\\")\\nburgerPrint=pd.concat([burgerPrint1,burgerPrint2])\\nburgerPrint.drop_duplicates(subset=['ORDER','REF','AMOUNT'],inplace=True)\\nburgerPrint[\\\"ORDER\\\"].value_counts()\";\n                var nbb_formatted_code = \"# BurgerPrints\\nburgerPrint1 = pd.read_csv(\\\"../data/vendor/Burgerprints/AMZ1-Burgerprint.csv\\\")\\nburgerPrint2 = pd.read_csv(\\\"../data/vendor/Burgerprints/AMZ 2-BurgerPrint.csv\\\")\\nburgerPrint = pd.concat([burgerPrint1, burgerPrint2])\\nburgerPrint.drop_duplicates(subset=[\\\"ORDER\\\", \\\"REF\\\", \\\"AMOUNT\\\"], inplace=True)\\nburgerPrint[\\\"ORDER\\\"].value_counts()\";\n                var nbb_cells = Jupyter.notebook.get_cells();\n                for (var i = 0; i < nbb_cells.length; ++i) {\n                    if (nbb_cells[i].input_prompt_number == nbb_cell_id) {\n                        if (nbb_cells[i].get_text() == nbb_unformatted_code) {\n                             nbb_cells[i].set_text(nbb_formatted_code);\n                        }\n                        break;\n                    }\n                }\n            }, 500);\n            "
     },
     "metadata": {},
     "output_type": "display_data"
    }
   ],
   "source": [
    "# BurgerPrints\n",
    "burgerPrint1=pd.read_csv(\"../data/vendor/Burgerprints/AMZ1-Burgerprint.csv\")\n",
    "burgerPrint2=pd.read_csv(\"../data/vendor/Burgerprints/AMZ 2-BurgerPrint.csv\")\n",
    "burgerPrint=pd.concat([burgerPrint1,burgerPrint2])\n",
    "burgerPrint.drop_duplicates(subset=['ORDER','REF','AMOUNT'],inplace=True)\n",
    "burgerPrint[\"ORDER\"].value_counts()"
   ],
   "metadata": {
    "collapsed": false,
    "pycharm": {
     "name": "#%%\n"
    }
   }
  },
  {
   "cell_type": "code",
   "execution_count": 12,
   "outputs": [
    {
     "data": {
      "text/plain": "                      index  ORDER\n0   A16735-992-APHD-1070292      3\n1         A16735-CT-1210614      2\n2         A16735-CT-1210087      2\n3   A16735-539-APTS-1022303      2\n4  A16735-1629-APHD-1104355      2",
      "text/html": "<div>\n<style scoped>\n    .dataframe tbody tr th:only-of-type {\n        vertical-align: middle;\n    }\n\n    .dataframe tbody tr th {\n        vertical-align: top;\n    }\n\n    .dataframe thead th {\n        text-align: right;\n    }\n</style>\n<table border=\"1\" class=\"dataframe\">\n  <thead>\n    <tr style=\"text-align: right;\">\n      <th></th>\n      <th>index</th>\n      <th>ORDER</th>\n    </tr>\n  </thead>\n  <tbody>\n    <tr>\n      <th>0</th>\n      <td>A16735-992-APHD-1070292</td>\n      <td>3</td>\n    </tr>\n    <tr>\n      <th>1</th>\n      <td>A16735-CT-1210614</td>\n      <td>2</td>\n    </tr>\n    <tr>\n      <th>2</th>\n      <td>A16735-CT-1210087</td>\n      <td>2</td>\n    </tr>\n    <tr>\n      <th>3</th>\n      <td>A16735-539-APTS-1022303</td>\n      <td>2</td>\n    </tr>\n    <tr>\n      <th>4</th>\n      <td>A16735-1629-APHD-1104355</td>\n      <td>2</td>\n    </tr>\n  </tbody>\n</table>\n</div>"
     },
     "execution_count": 12,
     "metadata": {},
     "output_type": "execute_result"
    },
    {
     "data": {
      "text/plain": "                       order  count base cost diff\n0    A16735-992-APHD-1070292                     3\n1          A16735-CT-1210614                     2\n2          A16735-CT-1210087                     2\n3    A16735-539-APTS-1022303                     2\n4   A16735-1629-APHD-1104355                     2\n5          A16735-CT-1223152                     2\n6   A16735-1605-APHD-1102728                     2\n7   A16735-2427-APHD-1152491                     2\n8   A16735-1300-APHD-1086399                     2\n9     A21579-13-APZH-1163126                     2\n10  A16735-2495-APHD-1168307                     2\n11    A21579-95-APHD-1173597                     2\n12   A16735-856-APHD-1061135                     2\n13         A16735-CT-1205233                     2\n14         A16735-CT-1214610                     2\n15         A21579-CT-1204752                     2\n16  A16735-1460-APHD-1095203                     2\n17         A16735-CT-1231082                     2\n18    A16735-399-APHD-990292                     2\n19  A16735-1711-APHD-1105419                     2\n20         A16735-CT-1213754                     2\n21  A16735-2519-APHD-1174378                     2\n22   A16735-864-APHD-1062182                     2\n23         A16735-CT-1210090                     2\n24    A21579-85-APZH-1172568                     2\n25    A16735-449-APHD-999946                     2\n26   A16735-796-APHD-1057828                     2\n27    A16735-17-APHD-1044322                     2\n28  A16735-1779-APHD-1107047                     2\n29  A16735-1784-APHD-1108111                     2\n30  A16735-1676-APHD-1105118                     2\n31         A16735-CT-1213750                     2\n32   A16735-547-APHD-1023452                     2\n33         A16735-CT-1216130                     2",
      "text/html": "<div>\n<style scoped>\n    .dataframe tbody tr th:only-of-type {\n        vertical-align: middle;\n    }\n\n    .dataframe tbody tr th {\n        vertical-align: top;\n    }\n\n    .dataframe thead th {\n        text-align: right;\n    }\n</style>\n<table border=\"1\" class=\"dataframe\">\n  <thead>\n    <tr style=\"text-align: right;\">\n      <th></th>\n      <th>order</th>\n      <th>count base cost diff</th>\n    </tr>\n  </thead>\n  <tbody>\n    <tr>\n      <th>0</th>\n      <td>A16735-992-APHD-1070292</td>\n      <td>3</td>\n    </tr>\n    <tr>\n      <th>1</th>\n      <td>A16735-CT-1210614</td>\n      <td>2</td>\n    </tr>\n    <tr>\n      <th>2</th>\n      <td>A16735-CT-1210087</td>\n      <td>2</td>\n    </tr>\n    <tr>\n      <th>3</th>\n      <td>A16735-539-APTS-1022303</td>\n      <td>2</td>\n    </tr>\n    <tr>\n      <th>4</th>\n      <td>A16735-1629-APHD-1104355</td>\n      <td>2</td>\n    </tr>\n    <tr>\n      <th>5</th>\n      <td>A16735-CT-1223152</td>\n      <td>2</td>\n    </tr>\n    <tr>\n      <th>6</th>\n      <td>A16735-1605-APHD-1102728</td>\n      <td>2</td>\n    </tr>\n    <tr>\n      <th>7</th>\n      <td>A16735-2427-APHD-1152491</td>\n      <td>2</td>\n    </tr>\n    <tr>\n      <th>8</th>\n      <td>A16735-1300-APHD-1086399</td>\n      <td>2</td>\n    </tr>\n    <tr>\n      <th>9</th>\n      <td>A21579-13-APZH-1163126</td>\n      <td>2</td>\n    </tr>\n    <tr>\n      <th>10</th>\n      <td>A16735-2495-APHD-1168307</td>\n      <td>2</td>\n    </tr>\n    <tr>\n      <th>11</th>\n      <td>A21579-95-APHD-1173597</td>\n      <td>2</td>\n    </tr>\n    <tr>\n      <th>12</th>\n      <td>A16735-856-APHD-1061135</td>\n      <td>2</td>\n    </tr>\n    <tr>\n      <th>13</th>\n      <td>A16735-CT-1205233</td>\n      <td>2</td>\n    </tr>\n    <tr>\n      <th>14</th>\n      <td>A16735-CT-1214610</td>\n      <td>2</td>\n    </tr>\n    <tr>\n      <th>15</th>\n      <td>A21579-CT-1204752</td>\n      <td>2</td>\n    </tr>\n    <tr>\n      <th>16</th>\n      <td>A16735-1460-APHD-1095203</td>\n      <td>2</td>\n    </tr>\n    <tr>\n      <th>17</th>\n      <td>A16735-CT-1231082</td>\n      <td>2</td>\n    </tr>\n    <tr>\n      <th>18</th>\n      <td>A16735-399-APHD-990292</td>\n      <td>2</td>\n    </tr>\n    <tr>\n      <th>19</th>\n      <td>A16735-1711-APHD-1105419</td>\n      <td>2</td>\n    </tr>\n    <tr>\n      <th>20</th>\n      <td>A16735-CT-1213754</td>\n      <td>2</td>\n    </tr>\n    <tr>\n      <th>21</th>\n      <td>A16735-2519-APHD-1174378</td>\n      <td>2</td>\n    </tr>\n    <tr>\n      <th>22</th>\n      <td>A16735-864-APHD-1062182</td>\n      <td>2</td>\n    </tr>\n    <tr>\n      <th>23</th>\n      <td>A16735-CT-1210090</td>\n      <td>2</td>\n    </tr>\n    <tr>\n      <th>24</th>\n      <td>A21579-85-APZH-1172568</td>\n      <td>2</td>\n    </tr>\n    <tr>\n      <th>25</th>\n      <td>A16735-449-APHD-999946</td>\n      <td>2</td>\n    </tr>\n    <tr>\n      <th>26</th>\n      <td>A16735-796-APHD-1057828</td>\n      <td>2</td>\n    </tr>\n    <tr>\n      <th>27</th>\n      <td>A16735-17-APHD-1044322</td>\n      <td>2</td>\n    </tr>\n    <tr>\n      <th>28</th>\n      <td>A16735-1779-APHD-1107047</td>\n      <td>2</td>\n    </tr>\n    <tr>\n      <th>29</th>\n      <td>A16735-1784-APHD-1108111</td>\n      <td>2</td>\n    </tr>\n    <tr>\n      <th>30</th>\n      <td>A16735-1676-APHD-1105118</td>\n      <td>2</td>\n    </tr>\n    <tr>\n      <th>31</th>\n      <td>A16735-CT-1213750</td>\n      <td>2</td>\n    </tr>\n    <tr>\n      <th>32</th>\n      <td>A16735-547-APHD-1023452</td>\n      <td>2</td>\n    </tr>\n    <tr>\n      <th>33</th>\n      <td>A16735-CT-1216130</td>\n      <td>2</td>\n    </tr>\n  </tbody>\n</table>\n</div>"
     },
     "execution_count": 12,
     "metadata": {},
     "output_type": "execute_result"
    },
    {
     "data": {
      "text/plain": "<IPython.core.display.Javascript object>",
      "application/javascript": "\n            setTimeout(function() {\n                var nbb_cell_id = 12;\n                var nbb_unformatted_code = \"orderError=burgerPrint[\\\"ORDER\\\"].value_counts().reset_index()\\norderError.head()\\norderError.columns=['order','count base cost diff']\\norderError=orderError[orderError[\\\"count base cost diff\\\"]>1]\\norderError.to_csv(\\\"../data/report/burgerprint_wrong_basecost.csv\\\",index=False)\\norderError\";\n                var nbb_formatted_code = \"orderError = burgerPrint[\\\"ORDER\\\"].value_counts().reset_index()\\norderError.head()\\norderError.columns = [\\\"order\\\", \\\"count base cost diff\\\"]\\norderError = orderError[orderError[\\\"count base cost diff\\\"] > 1]\\norderError.to_csv(\\\"../data/report/burgerprint_wrong_basecost.csv\\\", index=False)\\norderError\";\n                var nbb_cells = Jupyter.notebook.get_cells();\n                for (var i = 0; i < nbb_cells.length; ++i) {\n                    if (nbb_cells[i].input_prompt_number == nbb_cell_id) {\n                        if (nbb_cells[i].get_text() == nbb_unformatted_code) {\n                             nbb_cells[i].set_text(nbb_formatted_code);\n                        }\n                        break;\n                    }\n                }\n            }, 500);\n            "
     },
     "metadata": {},
     "output_type": "display_data"
    }
   ],
   "source": [
    "orderError=burgerPrint[\"ORDER\"].value_counts().reset_index()\n",
    "orderError.head()\n",
    "orderError.columns=['order','count base cost diff']\n",
    "orderError=orderError[orderError[\"count base cost diff\"]>1]\n",
    "orderError.to_csv(\"../data/report/burgerprint_wrong_basecost.csv\",index=False)\n",
    "orderError"
   ],
   "metadata": {
    "collapsed": false,
    "pycharm": {
     "name": "#%%\n"
    }
   }
  },
  {
   "cell_type": "code",
   "execution_count": 13,
   "outputs": [
    {
     "data": {
      "text/plain": "(2452,)"
     },
     "execution_count": 13,
     "metadata": {},
     "output_type": "execute_result"
    },
    {
     "ename": "OSError",
     "evalue": "Cannot save file into a non-existent directory: '../data/ok'",
     "output_type": "error",
     "traceback": [
      "\u001B[0;31m---------------------------------------------------------------------------\u001B[0m",
      "\u001B[0;31mOSError\u001B[0m                                   Traceback (most recent call last)",
      "Input \u001B[0;32mIn [13]\u001B[0m, in \u001B[0;36m<cell line: 5>\u001B[0;34m()\u001B[0m\n\u001B[1;32m      3\u001B[0m temp\u001B[38;5;241m.\u001B[39mshape\n\u001B[1;32m      4\u001B[0m burgerPrint\u001B[38;5;241m=\u001B[39mburgerPrint[burgerPrint[\u001B[38;5;124m'\u001B[39m\u001B[38;5;124mORDER\u001B[39m\u001B[38;5;124m'\u001B[39m]\u001B[38;5;241m.\u001B[39misin(temp\u001B[38;5;241m.\u001B[39mindex)]\n\u001B[0;32m----> 5\u001B[0m \u001B[43mburgerPrint\u001B[49m\u001B[38;5;241;43m.\u001B[39;49m\u001B[43mto_csv\u001B[49m\u001B[43m(\u001B[49m\u001B[38;5;124;43m\"\u001B[39;49m\u001B[38;5;124;43m../data/ok/burgerPrint.csv\u001B[39;49m\u001B[38;5;124;43m\"\u001B[39;49m\u001B[43m,\u001B[49m\u001B[43mindex\u001B[49m\u001B[38;5;241;43m=\u001B[39;49m\u001B[38;5;28;43;01mFalse\u001B[39;49;00m\u001B[43m)\u001B[49m\n",
      "File \u001B[0;32m~/Desktop/God/report-store/env/lib/python3.9/site-packages/pandas/core/generic.py:3551\u001B[0m, in \u001B[0;36mNDFrame.to_csv\u001B[0;34m(self, path_or_buf, sep, na_rep, float_format, columns, header, index, index_label, mode, encoding, compression, quoting, quotechar, line_terminator, chunksize, date_format, doublequote, escapechar, decimal, errors, storage_options)\u001B[0m\n\u001B[1;32m   3540\u001B[0m df \u001B[38;5;241m=\u001B[39m \u001B[38;5;28mself\u001B[39m \u001B[38;5;28;01mif\u001B[39;00m \u001B[38;5;28misinstance\u001B[39m(\u001B[38;5;28mself\u001B[39m, ABCDataFrame) \u001B[38;5;28;01melse\u001B[39;00m \u001B[38;5;28mself\u001B[39m\u001B[38;5;241m.\u001B[39mto_frame()\n\u001B[1;32m   3542\u001B[0m formatter \u001B[38;5;241m=\u001B[39m DataFrameFormatter(\n\u001B[1;32m   3543\u001B[0m     frame\u001B[38;5;241m=\u001B[39mdf,\n\u001B[1;32m   3544\u001B[0m     header\u001B[38;5;241m=\u001B[39mheader,\n\u001B[0;32m   (...)\u001B[0m\n\u001B[1;32m   3548\u001B[0m     decimal\u001B[38;5;241m=\u001B[39mdecimal,\n\u001B[1;32m   3549\u001B[0m )\n\u001B[0;32m-> 3551\u001B[0m \u001B[38;5;28;01mreturn\u001B[39;00m \u001B[43mDataFrameRenderer\u001B[49m\u001B[43m(\u001B[49m\u001B[43mformatter\u001B[49m\u001B[43m)\u001B[49m\u001B[38;5;241;43m.\u001B[39;49m\u001B[43mto_csv\u001B[49m\u001B[43m(\u001B[49m\n\u001B[1;32m   3552\u001B[0m \u001B[43m    \u001B[49m\u001B[43mpath_or_buf\u001B[49m\u001B[43m,\u001B[49m\n\u001B[1;32m   3553\u001B[0m \u001B[43m    \u001B[49m\u001B[43mline_terminator\u001B[49m\u001B[38;5;241;43m=\u001B[39;49m\u001B[43mline_terminator\u001B[49m\u001B[43m,\u001B[49m\n\u001B[1;32m   3554\u001B[0m \u001B[43m    \u001B[49m\u001B[43msep\u001B[49m\u001B[38;5;241;43m=\u001B[39;49m\u001B[43msep\u001B[49m\u001B[43m,\u001B[49m\n\u001B[1;32m   3555\u001B[0m \u001B[43m    \u001B[49m\u001B[43mencoding\u001B[49m\u001B[38;5;241;43m=\u001B[39;49m\u001B[43mencoding\u001B[49m\u001B[43m,\u001B[49m\n\u001B[1;32m   3556\u001B[0m \u001B[43m    \u001B[49m\u001B[43merrors\u001B[49m\u001B[38;5;241;43m=\u001B[39;49m\u001B[43merrors\u001B[49m\u001B[43m,\u001B[49m\n\u001B[1;32m   3557\u001B[0m \u001B[43m    \u001B[49m\u001B[43mcompression\u001B[49m\u001B[38;5;241;43m=\u001B[39;49m\u001B[43mcompression\u001B[49m\u001B[43m,\u001B[49m\n\u001B[1;32m   3558\u001B[0m \u001B[43m    \u001B[49m\u001B[43mquoting\u001B[49m\u001B[38;5;241;43m=\u001B[39;49m\u001B[43mquoting\u001B[49m\u001B[43m,\u001B[49m\n\u001B[1;32m   3559\u001B[0m \u001B[43m    \u001B[49m\u001B[43mcolumns\u001B[49m\u001B[38;5;241;43m=\u001B[39;49m\u001B[43mcolumns\u001B[49m\u001B[43m,\u001B[49m\n\u001B[1;32m   3560\u001B[0m \u001B[43m    \u001B[49m\u001B[43mindex_label\u001B[49m\u001B[38;5;241;43m=\u001B[39;49m\u001B[43mindex_label\u001B[49m\u001B[43m,\u001B[49m\n\u001B[1;32m   3561\u001B[0m \u001B[43m    \u001B[49m\u001B[43mmode\u001B[49m\u001B[38;5;241;43m=\u001B[39;49m\u001B[43mmode\u001B[49m\u001B[43m,\u001B[49m\n\u001B[1;32m   3562\u001B[0m \u001B[43m    \u001B[49m\u001B[43mchunksize\u001B[49m\u001B[38;5;241;43m=\u001B[39;49m\u001B[43mchunksize\u001B[49m\u001B[43m,\u001B[49m\n\u001B[1;32m   3563\u001B[0m \u001B[43m    \u001B[49m\u001B[43mquotechar\u001B[49m\u001B[38;5;241;43m=\u001B[39;49m\u001B[43mquotechar\u001B[49m\u001B[43m,\u001B[49m\n\u001B[1;32m   3564\u001B[0m \u001B[43m    \u001B[49m\u001B[43mdate_format\u001B[49m\u001B[38;5;241;43m=\u001B[39;49m\u001B[43mdate_format\u001B[49m\u001B[43m,\u001B[49m\n\u001B[1;32m   3565\u001B[0m \u001B[43m    \u001B[49m\u001B[43mdoublequote\u001B[49m\u001B[38;5;241;43m=\u001B[39;49m\u001B[43mdoublequote\u001B[49m\u001B[43m,\u001B[49m\n\u001B[1;32m   3566\u001B[0m \u001B[43m    \u001B[49m\u001B[43mescapechar\u001B[49m\u001B[38;5;241;43m=\u001B[39;49m\u001B[43mescapechar\u001B[49m\u001B[43m,\u001B[49m\n\u001B[1;32m   3567\u001B[0m \u001B[43m    \u001B[49m\u001B[43mstorage_options\u001B[49m\u001B[38;5;241;43m=\u001B[39;49m\u001B[43mstorage_options\u001B[49m\u001B[43m,\u001B[49m\n\u001B[1;32m   3568\u001B[0m \u001B[43m\u001B[49m\u001B[43m)\u001B[49m\n",
      "File \u001B[0;32m~/Desktop/God/report-store/env/lib/python3.9/site-packages/pandas/io/formats/format.py:1180\u001B[0m, in \u001B[0;36mDataFrameRenderer.to_csv\u001B[0;34m(self, path_or_buf, encoding, sep, columns, index_label, mode, compression, quoting, quotechar, line_terminator, chunksize, date_format, doublequote, escapechar, errors, storage_options)\u001B[0m\n\u001B[1;32m   1159\u001B[0m     created_buffer \u001B[38;5;241m=\u001B[39m \u001B[38;5;28;01mFalse\u001B[39;00m\n\u001B[1;32m   1161\u001B[0m csv_formatter \u001B[38;5;241m=\u001B[39m CSVFormatter(\n\u001B[1;32m   1162\u001B[0m     path_or_buf\u001B[38;5;241m=\u001B[39mpath_or_buf,\n\u001B[1;32m   1163\u001B[0m     line_terminator\u001B[38;5;241m=\u001B[39mline_terminator,\n\u001B[0;32m   (...)\u001B[0m\n\u001B[1;32m   1178\u001B[0m     formatter\u001B[38;5;241m=\u001B[39m\u001B[38;5;28mself\u001B[39m\u001B[38;5;241m.\u001B[39mfmt,\n\u001B[1;32m   1179\u001B[0m )\n\u001B[0;32m-> 1180\u001B[0m \u001B[43mcsv_formatter\u001B[49m\u001B[38;5;241;43m.\u001B[39;49m\u001B[43msave\u001B[49m\u001B[43m(\u001B[49m\u001B[43m)\u001B[49m\n\u001B[1;32m   1182\u001B[0m \u001B[38;5;28;01mif\u001B[39;00m created_buffer:\n\u001B[1;32m   1183\u001B[0m     \u001B[38;5;28;01massert\u001B[39;00m \u001B[38;5;28misinstance\u001B[39m(path_or_buf, StringIO)\n",
      "File \u001B[0;32m~/Desktop/God/report-store/env/lib/python3.9/site-packages/pandas/io/formats/csvs.py:241\u001B[0m, in \u001B[0;36mCSVFormatter.save\u001B[0;34m(self)\u001B[0m\n\u001B[1;32m    237\u001B[0m \u001B[38;5;124;03m\"\"\"\u001B[39;00m\n\u001B[1;32m    238\u001B[0m \u001B[38;5;124;03mCreate the writer & save.\u001B[39;00m\n\u001B[1;32m    239\u001B[0m \u001B[38;5;124;03m\"\"\"\u001B[39;00m\n\u001B[1;32m    240\u001B[0m \u001B[38;5;66;03m# apply compression and byte/text conversion\u001B[39;00m\n\u001B[0;32m--> 241\u001B[0m \u001B[38;5;28;01mwith\u001B[39;00m \u001B[43mget_handle\u001B[49m\u001B[43m(\u001B[49m\n\u001B[1;32m    242\u001B[0m \u001B[43m    \u001B[49m\u001B[38;5;28;43mself\u001B[39;49m\u001B[38;5;241;43m.\u001B[39;49m\u001B[43mfilepath_or_buffer\u001B[49m\u001B[43m,\u001B[49m\n\u001B[1;32m    243\u001B[0m \u001B[43m    \u001B[49m\u001B[38;5;28;43mself\u001B[39;49m\u001B[38;5;241;43m.\u001B[39;49m\u001B[43mmode\u001B[49m\u001B[43m,\u001B[49m\n\u001B[1;32m    244\u001B[0m \u001B[43m    \u001B[49m\u001B[43mencoding\u001B[49m\u001B[38;5;241;43m=\u001B[39;49m\u001B[38;5;28;43mself\u001B[39;49m\u001B[38;5;241;43m.\u001B[39;49m\u001B[43mencoding\u001B[49m\u001B[43m,\u001B[49m\n\u001B[1;32m    245\u001B[0m \u001B[43m    \u001B[49m\u001B[43merrors\u001B[49m\u001B[38;5;241;43m=\u001B[39;49m\u001B[38;5;28;43mself\u001B[39;49m\u001B[38;5;241;43m.\u001B[39;49m\u001B[43merrors\u001B[49m\u001B[43m,\u001B[49m\n\u001B[1;32m    246\u001B[0m \u001B[43m    \u001B[49m\u001B[43mcompression\u001B[49m\u001B[38;5;241;43m=\u001B[39;49m\u001B[38;5;28;43mself\u001B[39;49m\u001B[38;5;241;43m.\u001B[39;49m\u001B[43mcompression\u001B[49m\u001B[43m,\u001B[49m\n\u001B[1;32m    247\u001B[0m \u001B[43m    \u001B[49m\u001B[43mstorage_options\u001B[49m\u001B[38;5;241;43m=\u001B[39;49m\u001B[38;5;28;43mself\u001B[39;49m\u001B[38;5;241;43m.\u001B[39;49m\u001B[43mstorage_options\u001B[49m\u001B[43m,\u001B[49m\n\u001B[1;32m    248\u001B[0m \u001B[43m\u001B[49m\u001B[43m)\u001B[49m \u001B[38;5;28;01mas\u001B[39;00m handles:\n\u001B[1;32m    249\u001B[0m \n\u001B[1;32m    250\u001B[0m     \u001B[38;5;66;03m# Note: self.encoding is irrelevant here\u001B[39;00m\n\u001B[1;32m    251\u001B[0m     \u001B[38;5;28mself\u001B[39m\u001B[38;5;241m.\u001B[39mwriter \u001B[38;5;241m=\u001B[39m csvlib\u001B[38;5;241m.\u001B[39mwriter(\n\u001B[1;32m    252\u001B[0m         handles\u001B[38;5;241m.\u001B[39mhandle,\n\u001B[1;32m    253\u001B[0m         lineterminator\u001B[38;5;241m=\u001B[39m\u001B[38;5;28mself\u001B[39m\u001B[38;5;241m.\u001B[39mline_terminator,\n\u001B[0;32m   (...)\u001B[0m\n\u001B[1;32m    258\u001B[0m         quotechar\u001B[38;5;241m=\u001B[39m\u001B[38;5;28mself\u001B[39m\u001B[38;5;241m.\u001B[39mquotechar,\n\u001B[1;32m    259\u001B[0m     )\n\u001B[1;32m    261\u001B[0m     \u001B[38;5;28mself\u001B[39m\u001B[38;5;241m.\u001B[39m_save()\n",
      "File \u001B[0;32m~/Desktop/God/report-store/env/lib/python3.9/site-packages/pandas/io/common.py:694\u001B[0m, in \u001B[0;36mget_handle\u001B[0;34m(path_or_buf, mode, encoding, compression, memory_map, is_text, errors, storage_options)\u001B[0m\n\u001B[1;32m    692\u001B[0m \u001B[38;5;66;03m# Only for write methods\u001B[39;00m\n\u001B[1;32m    693\u001B[0m \u001B[38;5;28;01mif\u001B[39;00m \u001B[38;5;124m\"\u001B[39m\u001B[38;5;124mr\u001B[39m\u001B[38;5;124m\"\u001B[39m \u001B[38;5;129;01mnot\u001B[39;00m \u001B[38;5;129;01min\u001B[39;00m mode \u001B[38;5;129;01mand\u001B[39;00m is_path:\n\u001B[0;32m--> 694\u001B[0m     \u001B[43mcheck_parent_directory\u001B[49m\u001B[43m(\u001B[49m\u001B[38;5;28;43mstr\u001B[39;49m\u001B[43m(\u001B[49m\u001B[43mhandle\u001B[49m\u001B[43m)\u001B[49m\u001B[43m)\u001B[49m\n\u001B[1;32m    696\u001B[0m \u001B[38;5;28;01mif\u001B[39;00m compression:\n\u001B[1;32m    697\u001B[0m     \u001B[38;5;28;01mif\u001B[39;00m compression \u001B[38;5;241m!=\u001B[39m \u001B[38;5;124m\"\u001B[39m\u001B[38;5;124mzstd\u001B[39m\u001B[38;5;124m\"\u001B[39m:\n\u001B[1;32m    698\u001B[0m         \u001B[38;5;66;03m# compression libraries do not like an explicit text-mode\u001B[39;00m\n",
      "File \u001B[0;32m~/Desktop/God/report-store/env/lib/python3.9/site-packages/pandas/io/common.py:568\u001B[0m, in \u001B[0;36mcheck_parent_directory\u001B[0;34m(path)\u001B[0m\n\u001B[1;32m    566\u001B[0m parent \u001B[38;5;241m=\u001B[39m Path(path)\u001B[38;5;241m.\u001B[39mparent\n\u001B[1;32m    567\u001B[0m \u001B[38;5;28;01mif\u001B[39;00m \u001B[38;5;129;01mnot\u001B[39;00m parent\u001B[38;5;241m.\u001B[39mis_dir():\n\u001B[0;32m--> 568\u001B[0m     \u001B[38;5;28;01mraise\u001B[39;00m \u001B[38;5;167;01mOSError\u001B[39;00m(\u001B[38;5;124mrf\u001B[39m\u001B[38;5;124m\"\u001B[39m\u001B[38;5;124mCannot save file into a non-existent directory: \u001B[39m\u001B[38;5;124m'\u001B[39m\u001B[38;5;132;01m{\u001B[39;00mparent\u001B[38;5;132;01m}\u001B[39;00m\u001B[38;5;124m'\u001B[39m\u001B[38;5;124m\"\u001B[39m)\n",
      "\u001B[0;31mOSError\u001B[0m: Cannot save file into a non-existent directory: '../data/ok'"
     ]
    },
    {
     "data": {
      "text/plain": "<IPython.core.display.Javascript object>",
      "application/javascript": "\n            setTimeout(function() {\n                var nbb_cell_id = 13;\n                var nbb_unformatted_code = \"order=burgerPrint[\\\"ORDER\\\"].value_counts()==1\\ntemp=order[order==True]\\ntemp.shape\\nburgerPrint=burgerPrint[burgerPrint['ORDER'].isin(temp.index)]\\nburgerPrint.to_csv(\\\"../data/ok/burgerPrint.csv\\\",index=False)\";\n                var nbb_formatted_code = \"order = burgerPrint[\\\"ORDER\\\"].value_counts() == 1\\ntemp = order[order == True]\\ntemp.shape\\nburgerPrint = burgerPrint[burgerPrint[\\\"ORDER\\\"].isin(temp.index)]\\nburgerPrint.to_csv(\\\"../data/ok/burgerPrint.csv\\\", index=False)\";\n                var nbb_cells = Jupyter.notebook.get_cells();\n                for (var i = 0; i < nbb_cells.length; ++i) {\n                    if (nbb_cells[i].input_prompt_number == nbb_cell_id) {\n                        if (nbb_cells[i].get_text() == nbb_unformatted_code) {\n                             nbb_cells[i].set_text(nbb_formatted_code);\n                        }\n                        break;\n                    }\n                }\n            }, 500);\n            "
     },
     "metadata": {},
     "output_type": "display_data"
    }
   ],
   "source": [
    "order=burgerPrint[\"ORDER\"].value_counts()==1\n",
    "temp=order[order==True]\n",
    "temp.shape\n",
    "burgerPrint=burgerPrint[burgerPrint['ORDER'].isin(temp.index)]\n",
    "burgerPrint.to_csv(\"../data/ok/burgerPrint.csv\",index=False)"
   ],
   "metadata": {
    "collapsed": false,
    "pycharm": {
     "name": "#%%\n"
    }
   }
  },
  {
   "cell_type": "code",
   "execution_count": null,
   "outputs": [],
   "source": [],
   "metadata": {
    "collapsed": false,
    "pycharm": {
     "name": "#%%\n"
    }
   }
  }
 ],
 "metadata": {
  "kernelspec": {
   "display_name": "Python 3",
   "language": "python",
   "name": "python3"
  },
  "language_info": {
   "codemirror_mode": {
    "name": "ipython",
    "version": 2
   },
   "file_extension": ".py",
   "mimetype": "text/x-python",
   "name": "python",
   "nbconvert_exporter": "python",
   "pygments_lexer": "ipython2",
   "version": "2.7.6"
  }
 },
 "nbformat": 4,
 "nbformat_minor": 0
}