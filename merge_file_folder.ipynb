{
 "cells": [
  {
   "cell_type": "code",
   "execution_count": 9,
   "metadata": {
    "pycharm": {
     "name": "#%%\n"
    }
   },
   "outputs": [],
   "source": [
    "import pandas as pd\n",
    "import os\n",
    "import glob\n",
    "import warnings\n",
    "warnings.simplefilter(\"ignore\")"
   ]
  },
  {
   "cell_type": "code",
   "execution_count": 10,
   "metadata": {
    "pycharm": {
     "name": "#%%\n"
    }
   },
   "outputs": [
    {
     "data": {
      "text/plain": "(1065, 21)"
     },
     "execution_count": 10,
     "metadata": {},
     "output_type": "execute_result"
    }
   ],
   "source": [
    "path = \"data/vendor/Libertee/AMZ 1\"\n",
    "files = glob.glob(os.path.join(path, \"*.xlsx\"))\n",
    "data=pd.DataFrame()\n",
    "for f in files:\n",
    "    df= pd.read_excel(f)\n",
    "    data=pd.concat([data,df])\n",
    "data.shape"
   ]
  },
  {
   "cell_type": "code",
   "execution_count": 11,
   "outputs": [
    {
     "data": {
      "text/plain": "(1065, 21)"
     },
     "execution_count": 11,
     "metadata": {},
     "output_type": "execute_result"
    }
   ],
   "source": [],
   "metadata": {
    "collapsed": false,
    "pycharm": {
     "name": "#%%\n"
    }
   }
  },
  {
   "cell_type": "code",
   "execution_count": 12,
   "outputs": [
    {
     "data": {
      "text/plain": "             OrderName ShippingMethod Quantity              ProductName  \\\n0  112-9656025-9867448       Standard      1.0      112-9656025-9867448   \n1  113-0253270-8329064       Standard      1.0      113-0253270-8329064   \n0  114-2663206-4713848       standard      1.0  Memorial Pet Loss Frame   \n1  113-8517867-6836249       standard      1.0  Memorial Pet Loss Frame   \n2                  NaN            NaN      NaN                      NaN   \n\n  VariantCode                                   SKU  \\\n0    M-TU-20Z  113-0253270-8329064-19300974045610-0   \n1    M-TU-2T1  113-0253270-8329064-19300974045610-0   \n0    W-MP-F01                   114-2663206-4713848   \n1    W-MP-F01                   113-8517867-6836249   \n2         NaN                                   NaN   \n\n                                         FrontDesign BackDesign EngraveDesign  \\\n0  https://drive.google.com/file/d/1cUQmQZCdh5k21...        NaN           NaN   \n1  https://drive.google.com/file/d/1J1Sj50Dj6KDhj...        NaN           NaN   \n0  https://drive.google.com/file/d/1U9nbi5VSu8lIt...        NaN           NaN   \n1  https://drive.google.com/file/d/1drTTvWNVNJDAQ...        NaN           NaN   \n2                                                NaN        NaN         Total   \n\n  Basecost  ...                 ShippingAddress1 ShippingAddress2  \\\n0     16.0  ...              118 POST AVE APT 4A              NaN   \n1     17.0  ...                   2506 Walsh Ct.              NaN   \n0     15.0  ...  400 W PEACHTREE ST NW UNIT 1807              NaN   \n1     15.0  ...                 6985 HARVEST WAY              NaN   \n2     30.0  ...                              NaN              NaN   \n\n  ShippingCity ShippingZip ShippingProvince ShippingCountry  \\\n0     NEW YORK  10034-3445               NY              US   \n1    Hephzibah       30815               GA              US   \n0       MILTON  30308-3550               GA              US   \n1      ATLANTA  32570-3296               FL              US   \n2          NaN         NaN              NaN             NaN   \n\n                ShippingPhone Gift Message Note   15  \n0  +1 929-436-4790 ext. 70650          NaN  NaN  NaN  \n1  +1 619-854-2705 ext. 82148          NaN  NaN  NaN  \n0                         NaN          NaN  NaN  NaN  \n1                         NaN          NaN  NaN  NaN  \n2                         NaN          NaN  NaN  NaN  \n\n[5 rows x 21 columns]",
      "text/html": "<div>\n<style scoped>\n    .dataframe tbody tr th:only-of-type {\n        vertical-align: middle;\n    }\n\n    .dataframe tbody tr th {\n        vertical-align: top;\n    }\n\n    .dataframe thead th {\n        text-align: right;\n    }\n</style>\n<table border=\"1\" class=\"dataframe\">\n  <thead>\n    <tr style=\"text-align: right;\">\n      <th></th>\n      <th>OrderName</th>\n      <th>ShippingMethod</th>\n      <th>Quantity</th>\n      <th>ProductName</th>\n      <th>VariantCode</th>\n      <th>SKU</th>\n      <th>FrontDesign</th>\n      <th>BackDesign</th>\n      <th>EngraveDesign</th>\n      <th>Basecost</th>\n      <th>...</th>\n      <th>ShippingAddress1</th>\n      <th>ShippingAddress2</th>\n      <th>ShippingCity</th>\n      <th>ShippingZip</th>\n      <th>ShippingProvince</th>\n      <th>ShippingCountry</th>\n      <th>ShippingPhone</th>\n      <th>Gift Message</th>\n      <th>Note</th>\n      <th>15</th>\n    </tr>\n  </thead>\n  <tbody>\n    <tr>\n      <th>0</th>\n      <td>112-9656025-9867448</td>\n      <td>Standard</td>\n      <td>1.0</td>\n      <td>112-9656025-9867448</td>\n      <td>M-TU-20Z</td>\n      <td>113-0253270-8329064-19300974045610-0</td>\n      <td>https://drive.google.com/file/d/1cUQmQZCdh5k21...</td>\n      <td>NaN</td>\n      <td>NaN</td>\n      <td>16.0</td>\n      <td>...</td>\n      <td>118 POST AVE APT 4A</td>\n      <td>NaN</td>\n      <td>NEW YORK</td>\n      <td>10034-3445</td>\n      <td>NY</td>\n      <td>US</td>\n      <td>+1 929-436-4790 ext. 70650</td>\n      <td>NaN</td>\n      <td>NaN</td>\n      <td>NaN</td>\n    </tr>\n    <tr>\n      <th>1</th>\n      <td>113-0253270-8329064</td>\n      <td>Standard</td>\n      <td>1.0</td>\n      <td>113-0253270-8329064</td>\n      <td>M-TU-2T1</td>\n      <td>113-0253270-8329064-19300974045610-0</td>\n      <td>https://drive.google.com/file/d/1J1Sj50Dj6KDhj...</td>\n      <td>NaN</td>\n      <td>NaN</td>\n      <td>17.0</td>\n      <td>...</td>\n      <td>2506 Walsh Ct.</td>\n      <td>NaN</td>\n      <td>Hephzibah</td>\n      <td>30815</td>\n      <td>GA</td>\n      <td>US</td>\n      <td>+1 619-854-2705 ext. 82148</td>\n      <td>NaN</td>\n      <td>NaN</td>\n      <td>NaN</td>\n    </tr>\n    <tr>\n      <th>0</th>\n      <td>114-2663206-4713848</td>\n      <td>standard</td>\n      <td>1.0</td>\n      <td>Memorial Pet Loss Frame</td>\n      <td>W-MP-F01</td>\n      <td>114-2663206-4713848</td>\n      <td>https://drive.google.com/file/d/1U9nbi5VSu8lIt...</td>\n      <td>NaN</td>\n      <td>NaN</td>\n      <td>15.0</td>\n      <td>...</td>\n      <td>400 W PEACHTREE ST NW UNIT 1807</td>\n      <td>NaN</td>\n      <td>MILTON</td>\n      <td>30308-3550</td>\n      <td>GA</td>\n      <td>US</td>\n      <td>NaN</td>\n      <td>NaN</td>\n      <td>NaN</td>\n      <td>NaN</td>\n    </tr>\n    <tr>\n      <th>1</th>\n      <td>113-8517867-6836249</td>\n      <td>standard</td>\n      <td>1.0</td>\n      <td>Memorial Pet Loss Frame</td>\n      <td>W-MP-F01</td>\n      <td>113-8517867-6836249</td>\n      <td>https://drive.google.com/file/d/1drTTvWNVNJDAQ...</td>\n      <td>NaN</td>\n      <td>NaN</td>\n      <td>15.0</td>\n      <td>...</td>\n      <td>6985 HARVEST WAY</td>\n      <td>NaN</td>\n      <td>ATLANTA</td>\n      <td>32570-3296</td>\n      <td>FL</td>\n      <td>US</td>\n      <td>NaN</td>\n      <td>NaN</td>\n      <td>NaN</td>\n      <td>NaN</td>\n    </tr>\n    <tr>\n      <th>2</th>\n      <td>NaN</td>\n      <td>NaN</td>\n      <td>NaN</td>\n      <td>NaN</td>\n      <td>NaN</td>\n      <td>NaN</td>\n      <td>NaN</td>\n      <td>NaN</td>\n      <td>Total</td>\n      <td>30.0</td>\n      <td>...</td>\n      <td>NaN</td>\n      <td>NaN</td>\n      <td>NaN</td>\n      <td>NaN</td>\n      <td>NaN</td>\n      <td>NaN</td>\n      <td>NaN</td>\n      <td>NaN</td>\n      <td>NaN</td>\n      <td>NaN</td>\n    </tr>\n  </tbody>\n</table>\n<p>5 rows × 21 columns</p>\n</div>"
     },
     "execution_count": 12,
     "metadata": {},
     "output_type": "execute_result"
    }
   ],
   "source": [],
   "metadata": {
    "collapsed": false,
    "pycharm": {
     "name": "#%%\n"
    }
   }
  },
  {
   "cell_type": "code",
   "execution_count": null,
   "outputs": [],
   "source": [],
   "metadata": {
    "collapsed": false,
    "pycharm": {
     "name": "#%%\n"
    }
   }
  }
 ],
 "metadata": {
  "kernelspec": {
   "display_name": "Python 3.9.7 ('env': venv)",
   "language": "python",
   "name": "python3"
  },
  "language_info": {
   "name": "python",
   "version": "3.9.7"
  },
  "orig_nbformat": 4,
  "vscode": {
   "interpreter": {
    "hash": "abc329d2c4db3793430abd510df4df40c9b91d7a0475bcf9bb6317d9174734e4"
   }
  }
 },
 "nbformat": 4,
 "nbformat_minor": 2
}